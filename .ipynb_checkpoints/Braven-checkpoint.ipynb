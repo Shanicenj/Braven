{
 "cells": [
  {
   "cell_type": "code",
   "execution_count": 1,
   "metadata": {},
   "outputs": [],
   "source": [
    "import pandas as pd\n",
    "import numpy as np\n",
    "import seaborn as sns\n",
    "import statsmodels.api as sm\n",
    "import matplotlib.pyplot as plt\n",
    "from matplotlib import pyplot as plt"
   ]
  },
  {
   "cell_type": "code",
   "execution_count": 2,
   "metadata": {},
   "outputs": [],
   "source": [
    "pd.options.display.max_rows = 50\n",
    "pd.set_option('display.max_columns', None)\n",
    "pd.set_option('display.width', 1000)"
   ]
  },
  {
   "cell_type": "markdown",
   "metadata": {},
   "source": [
    "# Import Pre Survey Data for Individual Analysis"
   ]
  },
  {
   "cell_type": "code",
   "execution_count": 3,
   "metadata": {
    "scrolled": true
   },
   "outputs": [],
   "source": [
    "predf = pd.read_excel('/Users/shanicejerriho/Documents/PreSurvey.xlsx', header=0)"
   ]
  },
  {
   "cell_type": "code",
   "execution_count": 4,
   "metadata": {},
   "outputs": [],
   "source": [
    "predf.rename(columns = {'Start Date': 'Pre Start Date', 'End Date':'Pre End Date', 'Please indicate how much you agree with each of the following statements: - I feel certain about my ability to get the job I want':'Pre Job Ability Certainty', 'Please indicate how much you agree with each of the following statements: - I have what it takes to get a good job':'Pre Job Getting Confidence', 'Please indicate how much you agree with each of the following statements: - I am certain that my job search will be successful':'Pre Successful Job Search Certainty', 'How many extracurricular organizations are you currently involved with?': 'Pre Extracirrcular Organizations', 'Do you hold leadership positions in any of these organizations? If so, in how many?':'Pre Leadership Positions', 'How many internships or co-ops have you had since beginning college?':'Pre Internships CoOps'}, inplace = True)"
   ]
  },
  {
   "cell_type": "code",
   "execution_count": 5,
   "metadata": {},
   "outputs": [],
   "source": [
    "predf.columns = [i.replace(' ', '_') for i in predf.columns] "
   ]
  },
  {
   "cell_type": "code",
   "execution_count": 6,
   "metadata": {},
   "outputs": [],
   "source": [
    "predf['Pre_SurveyDuration'] = predf['Pre_End_Date'] - predf['Pre_Start_Date']\n",
    "# predf['Pre_SurveyDuration']=predf['Pre_SurveyDuration']/np.timedelta64(1,'m')"
   ]
  },
  {
   "cell_type": "code",
   "execution_count": 7,
   "metadata": {},
   "outputs": [
    {
     "data": {
      "text/plain": [
       "(246, 11)"
      ]
     },
     "execution_count": 7,
     "metadata": {},
     "output_type": "execute_result"
    }
   ],
   "source": [
    "predf.shape"
   ]
  },
  {
   "cell_type": "code",
   "execution_count": 8,
   "metadata": {},
   "outputs": [
    {
     "name": "stdout",
     "output_type": "stream",
     "text": [
      "<class 'pandas.core.frame.DataFrame'>\n",
      "RangeIndex: 246 entries, 0 to 245\n",
      "Data columns (total 11 columns):\n",
      " #   Column                               Non-Null Count  Dtype          \n",
      "---  ------                               --------------  -----          \n",
      " 0   ID                                   246 non-null    int64          \n",
      " 1   Pre_Start_Date                       246 non-null    datetime64[ns] \n",
      " 2   Pre_End_Date                         246 non-null    datetime64[ns] \n",
      " 3   Duration_(in_seconds)                246 non-null    int64          \n",
      " 4   Pre_Job_Ability_Certainty            246 non-null    object         \n",
      " 5   Pre_Job_Getting_Confidence           246 non-null    object         \n",
      " 6   Pre_Successful_Job_Search_Certainty  246 non-null    object         \n",
      " 7   Pre_Extracirrcular_Organizations     246 non-null    int64          \n",
      " 8   Pre_Leadership_Positions             246 non-null    int64          \n",
      " 9   Pre_Internships_CoOps                246 non-null    int64          \n",
      " 10  Pre_SurveyDuration                   246 non-null    timedelta64[ns]\n",
      "dtypes: datetime64[ns](2), int64(5), object(3), timedelta64[ns](1)\n",
      "memory usage: 21.3+ KB\n"
     ]
    }
   ],
   "source": [
    "predf.info()"
   ]
  },
  {
   "cell_type": "code",
   "execution_count": 9,
   "metadata": {},
   "outputs": [
    {
     "data": {
      "text/plain": [
       "ID                                     0\n",
       "Pre_Start_Date                         0\n",
       "Pre_End_Date                           0\n",
       "Duration_(in_seconds)                  0\n",
       "Pre_Job_Ability_Certainty              0\n",
       "Pre_Job_Getting_Confidence             0\n",
       "Pre_Successful_Job_Search_Certainty    0\n",
       "Pre_Extracirrcular_Organizations       0\n",
       "Pre_Leadership_Positions               0\n",
       "Pre_Internships_CoOps                  0\n",
       "Pre_SurveyDuration                     0\n",
       "dtype: int64"
      ]
     },
     "execution_count": 9,
     "metadata": {},
     "output_type": "execute_result"
    }
   ],
   "source": [
    "predf.isnull().sum()"
   ]
  },
  {
   "cell_type": "code",
   "execution_count": 10,
   "metadata": {
    "scrolled": true
   },
   "outputs": [],
   "source": [
    "# Unique Values of Each Column \n",
    "\n",
    "# for col, values in predf.iteritems():\n",
    "#     num_uniques = values.nunique()\n",
    "#     print ('{name}: {num_unique}'.format(name=col, num_unique=num_uniques))\n",
    "#     print (values.unique())\n",
    "#     print ('\\n')"
   ]
  },
  {
   "cell_type": "code",
   "execution_count": 11,
   "metadata": {},
   "outputs": [
    {
     "data": {
      "text/html": [
       "<div>\n",
       "<style scoped>\n",
       "    .dataframe tbody tr th:only-of-type {\n",
       "        vertical-align: middle;\n",
       "    }\n",
       "\n",
       "    .dataframe tbody tr th {\n",
       "        vertical-align: top;\n",
       "    }\n",
       "\n",
       "    .dataframe thead th {\n",
       "        text-align: right;\n",
       "    }\n",
       "</style>\n",
       "<table border=\"1\" class=\"dataframe\">\n",
       "  <thead>\n",
       "    <tr style=\"text-align: right;\">\n",
       "      <th></th>\n",
       "      <th>ID</th>\n",
       "      <th>Duration_(in_seconds)</th>\n",
       "      <th>Pre_Extracirrcular_Organizations</th>\n",
       "      <th>Pre_Leadership_Positions</th>\n",
       "      <th>Pre_Internships_CoOps</th>\n",
       "      <th>Pre_SurveyDuration</th>\n",
       "    </tr>\n",
       "  </thead>\n",
       "  <tbody>\n",
       "    <tr>\n",
       "      <th>count</th>\n",
       "      <td>246.000000</td>\n",
       "      <td>2.460000e+02</td>\n",
       "      <td>246.000000</td>\n",
       "      <td>246.000000</td>\n",
       "      <td>246.000000</td>\n",
       "      <td>246</td>\n",
       "    </tr>\n",
       "    <tr>\n",
       "      <th>mean</th>\n",
       "      <td>145.471545</td>\n",
       "      <td>3.896721e+05</td>\n",
       "      <td>0.947154</td>\n",
       "      <td>0.235772</td>\n",
       "      <td>0.414634</td>\n",
       "      <td>4 days 12:13:34.040650406</td>\n",
       "    </tr>\n",
       "    <tr>\n",
       "      <th>std</th>\n",
       "      <td>81.204587</td>\n",
       "      <td>1.451801e+06</td>\n",
       "      <td>1.242632</td>\n",
       "      <td>0.550789</td>\n",
       "      <td>0.760524</td>\n",
       "      <td>16 days 19:09:34.512496745</td>\n",
       "    </tr>\n",
       "    <tr>\n",
       "      <th>min</th>\n",
       "      <td>1.000000</td>\n",
       "      <td>3.210000e+02</td>\n",
       "      <td>0.000000</td>\n",
       "      <td>0.000000</td>\n",
       "      <td>0.000000</td>\n",
       "      <td>0 days 00:05:22</td>\n",
       "    </tr>\n",
       "    <tr>\n",
       "      <th>25%</th>\n",
       "      <td>78.250000</td>\n",
       "      <td>9.950000e+02</td>\n",
       "      <td>0.000000</td>\n",
       "      <td>0.000000</td>\n",
       "      <td>0.000000</td>\n",
       "      <td>0 days 00:16:35.250000</td>\n",
       "    </tr>\n",
       "    <tr>\n",
       "      <th>50%</th>\n",
       "      <td>147.500000</td>\n",
       "      <td>7.851000e+03</td>\n",
       "      <td>1.000000</td>\n",
       "      <td>0.000000</td>\n",
       "      <td>0.000000</td>\n",
       "      <td>0 days 02:10:52</td>\n",
       "    </tr>\n",
       "    <tr>\n",
       "      <th>75%</th>\n",
       "      <td>215.750000</td>\n",
       "      <td>4.802012e+05</td>\n",
       "      <td>2.000000</td>\n",
       "      <td>0.000000</td>\n",
       "      <td>1.000000</td>\n",
       "      <td>5 days 13:23:22</td>\n",
       "    </tr>\n",
       "    <tr>\n",
       "      <th>max</th>\n",
       "      <td>284.000000</td>\n",
       "      <td>1.365769e+07</td>\n",
       "      <td>7.000000</td>\n",
       "      <td>3.000000</td>\n",
       "      <td>4.000000</td>\n",
       "      <td>158 days 00:48:06</td>\n",
       "    </tr>\n",
       "  </tbody>\n",
       "</table>\n",
       "</div>"
      ],
      "text/plain": [
       "               ID  Duration_(in_seconds)  Pre_Extracirrcular_Organizations  Pre_Leadership_Positions  Pre_Internships_CoOps          Pre_SurveyDuration\n",
       "count  246.000000           2.460000e+02                        246.000000                246.000000             246.000000                         246\n",
       "mean   145.471545           3.896721e+05                          0.947154                  0.235772               0.414634   4 days 12:13:34.040650406\n",
       "std     81.204587           1.451801e+06                          1.242632                  0.550789               0.760524  16 days 19:09:34.512496745\n",
       "min      1.000000           3.210000e+02                          0.000000                  0.000000               0.000000             0 days 00:05:22\n",
       "25%     78.250000           9.950000e+02                          0.000000                  0.000000               0.000000      0 days 00:16:35.250000\n",
       "50%    147.500000           7.851000e+03                          1.000000                  0.000000               0.000000             0 days 02:10:52\n",
       "75%    215.750000           4.802012e+05                          2.000000                  0.000000               1.000000             5 days 13:23:22\n",
       "max    284.000000           1.365769e+07                          7.000000                  3.000000               4.000000           158 days 00:48:06"
      ]
     },
     "execution_count": 11,
     "metadata": {},
     "output_type": "execute_result"
    }
   ],
   "source": [
    "predf.describe()"
   ]
  },
  {
   "cell_type": "code",
   "execution_count": 12,
   "metadata": {},
   "outputs": [
    {
     "data": {
      "text/plain": [
       "count         246.000000\n",
       "mean       389672.052846\n",
       "std       1451800.813124\n",
       "min           321.000000\n",
       "25%           995.000000\n",
       "50%          7851.000000\n",
       "75%        480201.250000\n",
       "max      13657686.000000\n",
       "Name: Duration_(in_seconds), dtype: object"
      ]
     },
     "execution_count": 12,
     "metadata": {},
     "output_type": "execute_result"
    }
   ],
   "source": [
    "predf[\"Duration_(in_seconds)\"].describe().apply(lambda x: format(x, 'f'))"
   ]
  },
  {
   "cell_type": "markdown",
   "metadata": {},
   "source": [
    "# Frequencies"
   ]
  },
  {
   "cell_type": "code",
   "execution_count": 13,
   "metadata": {},
   "outputs": [
    {
     "data": {
      "text/html": [
       "<div>\n",
       "<style scoped>\n",
       "    .dataframe tbody tr th:only-of-type {\n",
       "        vertical-align: middle;\n",
       "    }\n",
       "\n",
       "    .dataframe tbody tr th {\n",
       "        vertical-align: top;\n",
       "    }\n",
       "\n",
       "    .dataframe thead th {\n",
       "        text-align: right;\n",
       "    }\n",
       "</style>\n",
       "<table border=\"1\" class=\"dataframe\">\n",
       "  <thead>\n",
       "    <tr style=\"text-align: right;\">\n",
       "      <th></th>\n",
       "      <th>I Have the Ability to Get the Job I Want</th>\n",
       "      <th>Frequency</th>\n",
       "      <th>Percentage of Occurrence</th>\n",
       "    </tr>\n",
       "  </thead>\n",
       "  <tbody>\n",
       "    <tr>\n",
       "      <th>0</th>\n",
       "      <td>Agree</td>\n",
       "      <td>67</td>\n",
       "      <td>27.2</td>\n",
       "    </tr>\n",
       "    <tr>\n",
       "      <th>1</th>\n",
       "      <td>Moderately Agree</td>\n",
       "      <td>63</td>\n",
       "      <td>25.6</td>\n",
       "    </tr>\n",
       "    <tr>\n",
       "      <th>2</th>\n",
       "      <td>Neutral</td>\n",
       "      <td>52</td>\n",
       "      <td>21.1</td>\n",
       "    </tr>\n",
       "    <tr>\n",
       "      <th>3</th>\n",
       "      <td>Strongly agree</td>\n",
       "      <td>22</td>\n",
       "      <td>8.9</td>\n",
       "    </tr>\n",
       "    <tr>\n",
       "      <th>4</th>\n",
       "      <td>Moderately Disagree</td>\n",
       "      <td>18</td>\n",
       "      <td>7.3</td>\n",
       "    </tr>\n",
       "    <tr>\n",
       "      <th>5</th>\n",
       "      <td>Disagree</td>\n",
       "      <td>15</td>\n",
       "      <td>6.1</td>\n",
       "    </tr>\n",
       "    <tr>\n",
       "      <th>6</th>\n",
       "      <td>Strongly Disagree</td>\n",
       "      <td>9</td>\n",
       "      <td>3.7</td>\n",
       "    </tr>\n",
       "  </tbody>\n",
       "</table>\n",
       "</div>"
      ],
      "text/plain": [
       "  I Have the Ability to Get the Job I Want  Frequency  Percentage of Occurrence\n",
       "0                                    Agree         67                      27.2\n",
       "1                         Moderately Agree         63                      25.6\n",
       "2                                  Neutral         52                      21.1\n",
       "3                           Strongly agree         22                       8.9\n",
       "4                      Moderately Disagree         18                       7.3\n",
       "5                                 Disagree         15                       6.1\n",
       "6                        Strongly Disagree          9                       3.7"
      ]
     },
     "execution_count": 13,
     "metadata": {},
     "output_type": "execute_result"
    }
   ],
   "source": [
    "# Conduct Frequency of Occurence and Percentages for Multiple Categories\n",
    "Frequency = predf.Pre_Job_Ability_Certainty.value_counts().rename_axis('I Have the Ability to Get the Job I Want').reset_index(name='Frequency')\n",
    "Frequency['Percentage of Occurrence'] = (Frequency['Frequency'] / \n",
    "                  Frequency['Frequency'].sum()) * 100\n",
    "Frequency.round(1)"
   ]
  },
  {
   "cell_type": "code",
   "execution_count": 14,
   "metadata": {},
   "outputs": [],
   "source": [
    "# Of a chosen group... how many people have extracirrculars, hold leadership positions, or internships/coops?"
   ]
  },
  {
   "cell_type": "code",
   "execution_count": 15,
   "metadata": {},
   "outputs": [
    {
     "data": {
      "text/html": [
       "<div>\n",
       "<style scoped>\n",
       "    .dataframe tbody tr th:only-of-type {\n",
       "        vertical-align: middle;\n",
       "    }\n",
       "\n",
       "    .dataframe tbody tr th {\n",
       "        vertical-align: top;\n",
       "    }\n",
       "\n",
       "    .dataframe thead th {\n",
       "        text-align: right;\n",
       "    }\n",
       "</style>\n",
       "<table border=\"1\" class=\"dataframe\">\n",
       "  <thead>\n",
       "    <tr style=\"text-align: right;\">\n",
       "      <th></th>\n",
       "      <th>I Have What it Takes to Get a Good Job</th>\n",
       "      <th>Frequency</th>\n",
       "      <th>Percentage of Occurrence</th>\n",
       "    </tr>\n",
       "  </thead>\n",
       "  <tbody>\n",
       "    <tr>\n",
       "      <th>0</th>\n",
       "      <td>Agree</td>\n",
       "      <td>70</td>\n",
       "      <td>28.5</td>\n",
       "    </tr>\n",
       "    <tr>\n",
       "      <th>1</th>\n",
       "      <td>Moderately Agree</td>\n",
       "      <td>62</td>\n",
       "      <td>25.2</td>\n",
       "    </tr>\n",
       "    <tr>\n",
       "      <th>2</th>\n",
       "      <td>Strongly agree</td>\n",
       "      <td>49</td>\n",
       "      <td>19.9</td>\n",
       "    </tr>\n",
       "    <tr>\n",
       "      <th>3</th>\n",
       "      <td>Neutral</td>\n",
       "      <td>38</td>\n",
       "      <td>15.4</td>\n",
       "    </tr>\n",
       "    <tr>\n",
       "      <th>4</th>\n",
       "      <td>Moderately Disagree</td>\n",
       "      <td>15</td>\n",
       "      <td>6.1</td>\n",
       "    </tr>\n",
       "    <tr>\n",
       "      <th>5</th>\n",
       "      <td>Strongly Disagree</td>\n",
       "      <td>7</td>\n",
       "      <td>2.8</td>\n",
       "    </tr>\n",
       "    <tr>\n",
       "      <th>6</th>\n",
       "      <td>Disagree</td>\n",
       "      <td>5</td>\n",
       "      <td>2.0</td>\n",
       "    </tr>\n",
       "  </tbody>\n",
       "</table>\n",
       "</div>"
      ],
      "text/plain": [
       "  I Have What it Takes to Get a Good Job   Frequency  Percentage of Occurrence\n",
       "0                                   Agree         70                      28.5\n",
       "1                        Moderately Agree         62                      25.2\n",
       "2                          Strongly agree         49                      19.9\n",
       "3                                 Neutral         38                      15.4\n",
       "4                     Moderately Disagree         15                       6.1\n",
       "5                       Strongly Disagree          7                       2.8\n",
       "6                                Disagree          5                       2.0"
      ]
     },
     "execution_count": 15,
     "metadata": {},
     "output_type": "execute_result"
    }
   ],
   "source": [
    "Frequency2 = predf.Pre_Job_Getting_Confidence.value_counts().rename_axis('I Have What it Takes to Get a Good Job ').reset_index(name='Frequency')\n",
    "Frequency2['Percentage of Occurrence'] = (Frequency2['Frequency'] / \n",
    "                  Frequency2['Frequency'].sum()) * 100\n",
    "Frequency2.round(1)"
   ]
  },
  {
   "cell_type": "code",
   "execution_count": 16,
   "metadata": {},
   "outputs": [],
   "source": [
    "# Of a chosen group... how many people have extracirrculars, hold leadership positions, or internships/coops?"
   ]
  },
  {
   "cell_type": "code",
   "execution_count": 17,
   "metadata": {},
   "outputs": [
    {
     "data": {
      "text/html": [
       "<div>\n",
       "<style scoped>\n",
       "    .dataframe tbody tr th:only-of-type {\n",
       "        vertical-align: middle;\n",
       "    }\n",
       "\n",
       "    .dataframe tbody tr th {\n",
       "        vertical-align: top;\n",
       "    }\n",
       "\n",
       "    .dataframe thead th {\n",
       "        text-align: right;\n",
       "    }\n",
       "</style>\n",
       "<table border=\"1\" class=\"dataframe\">\n",
       "  <thead>\n",
       "    <tr style=\"text-align: right;\">\n",
       "      <th></th>\n",
       "      <th>Im Certain that My Job Search Will be Successful</th>\n",
       "      <th>Frequency</th>\n",
       "      <th>Percentage of Occurrence</th>\n",
       "    </tr>\n",
       "  </thead>\n",
       "  <tbody>\n",
       "    <tr>\n",
       "      <th>0</th>\n",
       "      <td>Moderately Agree</td>\n",
       "      <td>63</td>\n",
       "      <td>25.6</td>\n",
       "    </tr>\n",
       "    <tr>\n",
       "      <th>1</th>\n",
       "      <td>Neutral</td>\n",
       "      <td>60</td>\n",
       "      <td>24.4</td>\n",
       "    </tr>\n",
       "    <tr>\n",
       "      <th>2</th>\n",
       "      <td>Agree</td>\n",
       "      <td>60</td>\n",
       "      <td>24.4</td>\n",
       "    </tr>\n",
       "    <tr>\n",
       "      <th>3</th>\n",
       "      <td>Strongly agree</td>\n",
       "      <td>34</td>\n",
       "      <td>13.8</td>\n",
       "    </tr>\n",
       "    <tr>\n",
       "      <th>4</th>\n",
       "      <td>Moderately Disagree</td>\n",
       "      <td>14</td>\n",
       "      <td>5.7</td>\n",
       "    </tr>\n",
       "    <tr>\n",
       "      <th>5</th>\n",
       "      <td>Strongly Disagree</td>\n",
       "      <td>8</td>\n",
       "      <td>3.3</td>\n",
       "    </tr>\n",
       "    <tr>\n",
       "      <th>6</th>\n",
       "      <td>Disagree</td>\n",
       "      <td>7</td>\n",
       "      <td>2.8</td>\n",
       "    </tr>\n",
       "  </tbody>\n",
       "</table>\n",
       "</div>"
      ],
      "text/plain": [
       "  Im Certain that My Job Search Will be Successful   Frequency  Percentage of Occurrence\n",
       "0                                  Moderately Agree         63                      25.6\n",
       "1                                           Neutral         60                      24.4\n",
       "2                                             Agree         60                      24.4\n",
       "3                                    Strongly agree         34                      13.8\n",
       "4                               Moderately Disagree         14                       5.7\n",
       "5                                 Strongly Disagree          8                       3.3\n",
       "6                                          Disagree          7                       2.8"
      ]
     },
     "execution_count": 17,
     "metadata": {},
     "output_type": "execute_result"
    }
   ],
   "source": [
    "Frequency3 = predf.Pre_Successful_Job_Search_Certainty.value_counts().rename_axis('Im Certain that My Job Search Will be Successful ').reset_index(name='Frequency')\n",
    "Frequency3['Percentage of Occurrence'] = (Frequency3['Frequency'] / \n",
    "                  Frequency3['Frequency'].sum()) * 100\n",
    "Frequency3.round(1)"
   ]
  },
  {
   "cell_type": "code",
   "execution_count": 18,
   "metadata": {},
   "outputs": [],
   "source": [
    "# Of a chosen group... how many people have extracirrculars, hold leadership positions, or internships/coops?"
   ]
  },
  {
   "cell_type": "code",
   "execution_count": 19,
   "metadata": {},
   "outputs": [
    {
     "data": {
      "text/html": [
       "<div>\n",
       "<style scoped>\n",
       "    .dataframe tbody tr th:only-of-type {\n",
       "        vertical-align: middle;\n",
       "    }\n",
       "\n",
       "    .dataframe tbody tr th {\n",
       "        vertical-align: top;\n",
       "    }\n",
       "\n",
       "    .dataframe thead th {\n",
       "        text-align: right;\n",
       "    }\n",
       "</style>\n",
       "<table border=\"1\" class=\"dataframe\">\n",
       "  <thead>\n",
       "    <tr style=\"text-align: right;\">\n",
       "      <th></th>\n",
       "      <th>Extracirrcular Organizations</th>\n",
       "      <th>Frequency</th>\n",
       "      <th>Percentage of Occurrence</th>\n",
       "    </tr>\n",
       "  </thead>\n",
       "  <tbody>\n",
       "    <tr>\n",
       "      <th>0</th>\n",
       "      <td>0</td>\n",
       "      <td>122</td>\n",
       "      <td>49.6</td>\n",
       "    </tr>\n",
       "    <tr>\n",
       "      <th>1</th>\n",
       "      <td>1</td>\n",
       "      <td>61</td>\n",
       "      <td>24.8</td>\n",
       "    </tr>\n",
       "    <tr>\n",
       "      <th>2</th>\n",
       "      <td>2</td>\n",
       "      <td>34</td>\n",
       "      <td>13.8</td>\n",
       "    </tr>\n",
       "    <tr>\n",
       "      <th>3</th>\n",
       "      <td>3</td>\n",
       "      <td>19</td>\n",
       "      <td>7.7</td>\n",
       "    </tr>\n",
       "    <tr>\n",
       "      <th>4</th>\n",
       "      <td>4</td>\n",
       "      <td>6</td>\n",
       "      <td>2.4</td>\n",
       "    </tr>\n",
       "    <tr>\n",
       "      <th>5</th>\n",
       "      <td>5</td>\n",
       "      <td>2</td>\n",
       "      <td>0.8</td>\n",
       "    </tr>\n",
       "    <tr>\n",
       "      <th>6</th>\n",
       "      <td>7</td>\n",
       "      <td>1</td>\n",
       "      <td>0.4</td>\n",
       "    </tr>\n",
       "    <tr>\n",
       "      <th>7</th>\n",
       "      <td>6</td>\n",
       "      <td>1</td>\n",
       "      <td>0.4</td>\n",
       "    </tr>\n",
       "  </tbody>\n",
       "</table>\n",
       "</div>"
      ],
      "text/plain": [
       "   Extracirrcular Organizations  Frequency  Percentage of Occurrence\n",
       "0                             0        122                      49.6\n",
       "1                             1         61                      24.8\n",
       "2                             2         34                      13.8\n",
       "3                             3         19                       7.7\n",
       "4                             4          6                       2.4\n",
       "5                             5          2                       0.8\n",
       "6                             7          1                       0.4\n",
       "7                             6          1                       0.4"
      ]
     },
     "execution_count": 19,
     "metadata": {},
     "output_type": "execute_result"
    }
   ],
   "source": [
    "Frequency4 = predf.Pre_Extracirrcular_Organizations.value_counts().rename_axis('Extracirrcular Organizations').reset_index(name='Frequency')\n",
    "Frequency4['Percentage of Occurrence'] = (Frequency4['Frequency'] / \n",
    "                  Frequency4['Frequency'].sum()) * 100\n",
    "Frequency4.round(1)"
   ]
  },
  {
   "cell_type": "code",
   "execution_count": 20,
   "metadata": {},
   "outputs": [
    {
     "data": {
      "text/html": [
       "<div>\n",
       "<style scoped>\n",
       "    .dataframe tbody tr th:only-of-type {\n",
       "        vertical-align: middle;\n",
       "    }\n",
       "\n",
       "    .dataframe tbody tr th {\n",
       "        vertical-align: top;\n",
       "    }\n",
       "\n",
       "    .dataframe thead th {\n",
       "        text-align: right;\n",
       "    }\n",
       "</style>\n",
       "<table border=\"1\" class=\"dataframe\">\n",
       "  <thead>\n",
       "    <tr style=\"text-align: right;\">\n",
       "      <th></th>\n",
       "      <th>Amount of Leadership Positions</th>\n",
       "      <th>Frequency</th>\n",
       "      <th>Percentage of Occurrence</th>\n",
       "    </tr>\n",
       "  </thead>\n",
       "  <tbody>\n",
       "    <tr>\n",
       "      <th>0</th>\n",
       "      <td>0</td>\n",
       "      <td>201</td>\n",
       "      <td>81.7</td>\n",
       "    </tr>\n",
       "    <tr>\n",
       "      <th>1</th>\n",
       "      <td>1</td>\n",
       "      <td>34</td>\n",
       "      <td>13.8</td>\n",
       "    </tr>\n",
       "    <tr>\n",
       "      <th>2</th>\n",
       "      <td>2</td>\n",
       "      <td>9</td>\n",
       "      <td>3.7</td>\n",
       "    </tr>\n",
       "    <tr>\n",
       "      <th>3</th>\n",
       "      <td>3</td>\n",
       "      <td>2</td>\n",
       "      <td>0.8</td>\n",
       "    </tr>\n",
       "  </tbody>\n",
       "</table>\n",
       "</div>"
      ],
      "text/plain": [
       "   Amount of Leadership Positions   Frequency  Percentage of Occurrence\n",
       "0                                0        201                      81.7\n",
       "1                                1         34                      13.8\n",
       "2                                2          9                       3.7\n",
       "3                                3          2                       0.8"
      ]
     },
     "execution_count": 20,
     "metadata": {},
     "output_type": "execute_result"
    }
   ],
   "source": [
    "Frequency5 = predf.Pre_Leadership_Positions.value_counts().rename_axis('Amount of Leadership Positions ').reset_index(name='Frequency')\n",
    "Frequency5['Percentage of Occurrence'] = (Frequency5['Frequency'] / \n",
    "                  Frequency5['Frequency'].sum()) * 100\n",
    "Frequency5.round(1)"
   ]
  },
  {
   "cell_type": "code",
   "execution_count": 21,
   "metadata": {},
   "outputs": [
    {
     "data": {
      "text/html": [
       "<div>\n",
       "<style scoped>\n",
       "    .dataframe tbody tr th:only-of-type {\n",
       "        vertical-align: middle;\n",
       "    }\n",
       "\n",
       "    .dataframe tbody tr th {\n",
       "        vertical-align: top;\n",
       "    }\n",
       "\n",
       "    .dataframe thead th {\n",
       "        text-align: right;\n",
       "    }\n",
       "</style>\n",
       "<table border=\"1\" class=\"dataframe\">\n",
       "  <thead>\n",
       "    <tr style=\"text-align: right;\">\n",
       "      <th></th>\n",
       "      <th>Invested Internships/CoOps</th>\n",
       "      <th>Frequency</th>\n",
       "      <th>Percentage of Occurrence</th>\n",
       "    </tr>\n",
       "  </thead>\n",
       "  <tbody>\n",
       "    <tr>\n",
       "      <th>0</th>\n",
       "      <td>0</td>\n",
       "      <td>176</td>\n",
       "      <td>71.5</td>\n",
       "    </tr>\n",
       "    <tr>\n",
       "      <th>1</th>\n",
       "      <td>1</td>\n",
       "      <td>46</td>\n",
       "      <td>18.7</td>\n",
       "    </tr>\n",
       "    <tr>\n",
       "      <th>2</th>\n",
       "      <td>2</td>\n",
       "      <td>17</td>\n",
       "      <td>6.9</td>\n",
       "    </tr>\n",
       "    <tr>\n",
       "      <th>3</th>\n",
       "      <td>3</td>\n",
       "      <td>6</td>\n",
       "      <td>2.4</td>\n",
       "    </tr>\n",
       "    <tr>\n",
       "      <th>4</th>\n",
       "      <td>4</td>\n",
       "      <td>1</td>\n",
       "      <td>0.4</td>\n",
       "    </tr>\n",
       "  </tbody>\n",
       "</table>\n",
       "</div>"
      ],
      "text/plain": [
       "   Invested Internships/CoOps  Frequency  Percentage of Occurrence\n",
       "0                           0        176                      71.5\n",
       "1                           1         46                      18.7\n",
       "2                           2         17                       6.9\n",
       "3                           3          6                       2.4\n",
       "4                           4          1                       0.4"
      ]
     },
     "execution_count": 21,
     "metadata": {},
     "output_type": "execute_result"
    }
   ],
   "source": [
    "Frequency6 = predf.Pre_Internships_CoOps.value_counts().rename_axis('Invested Internships/CoOps').reset_index(name='Frequency')\n",
    "Frequency6['Percentage of Occurrence'] = (Frequency6['Frequency'] / \n",
    "                  Frequency6['Frequency'].sum()) * 100\n",
    "Frequency6.round(1)"
   ]
  },
  {
   "cell_type": "markdown",
   "metadata": {},
   "source": [
    "# Time Series"
   ]
  },
  {
   "cell_type": "code",
   "execution_count": 22,
   "metadata": {},
   "outputs": [
    {
     "data": {
      "text/plain": [
       "Timestamp('2019-08-24 13:25:56')"
      ]
     },
     "execution_count": 22,
     "metadata": {},
     "output_type": "execute_result"
    }
   ],
   "source": [
    "# Earliest Survey Taken Was August 24th 2019\n",
    "predf.Pre_Start_Date.min()"
   ]
  },
  {
   "cell_type": "code",
   "execution_count": 23,
   "metadata": {},
   "outputs": [
    {
     "data": {
      "text/plain": [
       "Timestamp('2019-09-24 15:51:03')"
      ]
     },
     "execution_count": 23,
     "metadata": {},
     "output_type": "execute_result"
    }
   ],
   "source": [
    "# Latest Time a Survey Started  \n",
    "predf.Pre_Start_Date.max()"
   ]
  },
  {
   "cell_type": "code",
   "execution_count": 24,
   "metadata": {},
   "outputs": [
    {
     "data": {
      "text/plain": [
       "Timestamp('2020-02-02 16:26:54')"
      ]
     },
     "execution_count": 24,
     "metadata": {},
     "output_type": "execute_result"
    }
   ],
   "source": [
    "# Lastest Time Survey Submitted/Completed On February 20th 2020\n",
    "predf.Pre_End_Date.max()"
   ]
  },
  {
   "cell_type": "code",
   "execution_count": 25,
   "metadata": {},
   "outputs": [
    {
     "data": {
      "text/plain": [
       "Timestamp('2019-08-24 14:23:17')"
      ]
     },
     "execution_count": 25,
     "metadata": {},
     "output_type": "execute_result"
    }
   ],
   "source": [
    "# EarliestTime Survey Submitted/Completed \n",
    "predf.Pre_End_Date.min()"
   ]
  },
  {
   "cell_type": "code",
   "execution_count": 26,
   "metadata": {},
   "outputs": [],
   "source": [
    "SurveyTimes = predf.groupby(['Pre_Start_Date'])['ID'].count().reset_index()"
   ]
  },
  {
   "cell_type": "markdown",
   "metadata": {},
   "source": [
    "# "
   ]
  },
  {
   "cell_type": "markdown",
   "metadata": {},
   "source": [
    "# "
   ]
  },
  {
   "cell_type": "markdown",
   "metadata": {},
   "source": [
    "# Import Post Survey Data for Individual Analysis"
   ]
  },
  {
   "cell_type": "code",
   "execution_count": 27,
   "metadata": {},
   "outputs": [],
   "source": [
    "postdf = pd.read_excel('/Users/shanicejerriho/Documents/PostSurvey.xlsx', header=0)"
   ]
  },
  {
   "cell_type": "code",
   "execution_count": 28,
   "metadata": {},
   "outputs": [],
   "source": [
    "postdf.columns = postdf.columns.str.replace(\"'\",\" \")"
   ]
  },
  {
   "cell_type": "code",
   "execution_count": 29,
   "metadata": {},
   "outputs": [],
   "source": [
    "postdf.rename(columns = {'Start Date': 'Post Start Date', 'End Date':'Post End Date', 'Duration (in seconds)':'Post Duration (in seconds)', 'How likely would you be to recommend Braven to a friend?': 'Likelihood of Recommendation', 'Braven was one of the most valuable personal or professional development experiences I ve ever had.':'Valuable Professional PersonalDevelopment Experience', 'Please indicate how much you agree with each of the following statements: - I see Braven as more than just a course; I feel like I am part of a broader movement.':'Braven More Than a Course Perception', 'Please indicate how much you agree with each of the following statements: - I have a mentor who encourages my goals and dreams.':'Mentor Goals Dreams Encouragement', 'On average, how much time did you spend completing Braven-related work compared to your other courses every week?':'Braven Coursework Time Completion', 'How challenging was the work you completed for Braven compared to the work you complete in your other courses?':'Braven Coursework Complexity', 'What is your major?':'College Major', 'Please indicate how much you agree with each of the following statements: - I feel certain about my ability to get the job I want':'Post Job Ability Certainty', 'Please indicate how much you agree with each of the following statements: - I have what it takes to get a good job':'Post Job Getting Confidence', 'Please indicate how much you agree with each of the following statements: - I am certain that my job search will be successful':'Post Successful Job Search Certainty'}, inplace = True)"
   ]
  },
  {
   "cell_type": "code",
   "execution_count": 30,
   "metadata": {},
   "outputs": [],
   "source": [
    "postdf.columns = [i.replace(' ', '_') for i in postdf.columns] "
   ]
  },
  {
   "cell_type": "code",
   "execution_count": 31,
   "metadata": {},
   "outputs": [],
   "source": [
    "postdf['Post_SurveyDuration'] = postdf['Post_End_Date'] - postdf['Post_Start_Date']\n",
    "# postdf['Post_SurveyDuration']=postdf['Post_SurveryDuration']/np.timedelta64(1,'m')"
   ]
  },
  {
   "cell_type": "code",
   "execution_count": 32,
   "metadata": {},
   "outputs": [
    {
     "data": {
      "text/plain": [
       "(239, 16)"
      ]
     },
     "execution_count": 32,
     "metadata": {},
     "output_type": "execute_result"
    }
   ],
   "source": [
    "postdf.shape"
   ]
  },
  {
   "cell_type": "code",
   "execution_count": 33,
   "metadata": {},
   "outputs": [
    {
     "name": "stdout",
     "output_type": "stream",
     "text": [
      "<class 'pandas.core.frame.DataFrame'>\n",
      "RangeIndex: 239 entries, 0 to 238\n",
      "Data columns (total 16 columns):\n",
      " #   Column                                                Non-Null Count  Dtype          \n",
      "---  ------                                                --------------  -----          \n",
      " 0   ID                                                    239 non-null    int64          \n",
      " 1   Site                                                  239 non-null    object         \n",
      " 2   Post_Start_Date                                       239 non-null    datetime64[ns] \n",
      " 3   Post_End_Date                                         239 non-null    datetime64[ns] \n",
      " 4   Post_Duration_(in_seconds)                            239 non-null    int64          \n",
      " 5   Likelihood_of_Recommendation                          239 non-null    int64          \n",
      " 6   Valuable_Professional_PersonalDevelopment_Experience  239 non-null    object         \n",
      " 7   Braven_More_Than_a_Course_Perception                  239 non-null    object         \n",
      " 8   Mentor_Goals_Dreams_Encouragement                     239 non-null    object         \n",
      " 9   Braven_Coursework_Time_Completion                     239 non-null    object         \n",
      " 10  Braven_Coursework_Complexity                          239 non-null    object         \n",
      " 11  College_Major                                         239 non-null    object         \n",
      " 12  Post_Job_Ability_Certainty                            239 non-null    object         \n",
      " 13  Post_Job_Getting_Confidence                           239 non-null    object         \n",
      " 14  Post_Successful_Job_Search_Certainty                  239 non-null    object         \n",
      " 15  Post_SurveyDuration                                   239 non-null    timedelta64[ns]\n",
      "dtypes: datetime64[ns](2), int64(3), object(10), timedelta64[ns](1)\n",
      "memory usage: 30.0+ KB\n"
     ]
    }
   ],
   "source": [
    "postdf.info()"
   ]
  },
  {
   "cell_type": "code",
   "execution_count": 34,
   "metadata": {},
   "outputs": [
    {
     "data": {
      "text/plain": [
       "ID                                                      0\n",
       "Site                                                    0\n",
       "Post_Start_Date                                         0\n",
       "Post_End_Date                                           0\n",
       "Post_Duration_(in_seconds)                              0\n",
       "Likelihood_of_Recommendation                            0\n",
       "Valuable_Professional_PersonalDevelopment_Experience    0\n",
       "Braven_More_Than_a_Course_Perception                    0\n",
       "Mentor_Goals_Dreams_Encouragement                       0\n",
       "Braven_Coursework_Time_Completion                       0\n",
       "Braven_Coursework_Complexity                            0\n",
       "College_Major                                           0\n",
       "Post_Job_Ability_Certainty                              0\n",
       "Post_Job_Getting_Confidence                             0\n",
       "Post_Successful_Job_Search_Certainty                    0\n",
       "Post_SurveyDuration                                     0\n",
       "dtype: int64"
      ]
     },
     "execution_count": 34,
     "metadata": {},
     "output_type": "execute_result"
    }
   ],
   "source": [
    "postdf.isnull().sum()"
   ]
  },
  {
   "cell_type": "code",
   "execution_count": 35,
   "metadata": {
    "scrolled": true
   },
   "outputs": [],
   "source": [
    "# Unique Values of Each Column \n",
    "\n",
    "# for col, values in postdf.iteritems():\n",
    "#     num_uniques = values.nunique()\n",
    "#     print ('{name}: {num_unique}'.format(name=col, num_unique=num_uniques))\n",
    "#     print (values.unique())\n",
    "#     print ('\\n')"
   ]
  },
  {
   "cell_type": "code",
   "execution_count": 36,
   "metadata": {},
   "outputs": [
    {
     "data": {
      "text/html": [
       "<div>\n",
       "<style scoped>\n",
       "    .dataframe tbody tr th:only-of-type {\n",
       "        vertical-align: middle;\n",
       "    }\n",
       "\n",
       "    .dataframe tbody tr th {\n",
       "        vertical-align: top;\n",
       "    }\n",
       "\n",
       "    .dataframe thead th {\n",
       "        text-align: right;\n",
       "    }\n",
       "</style>\n",
       "<table border=\"1\" class=\"dataframe\">\n",
       "  <thead>\n",
       "    <tr style=\"text-align: right;\">\n",
       "      <th></th>\n",
       "      <th>ID</th>\n",
       "      <th>Post_Duration_(in_seconds)</th>\n",
       "      <th>Likelihood_of_Recommendation</th>\n",
       "      <th>Post_SurveyDuration</th>\n",
       "    </tr>\n",
       "  </thead>\n",
       "  <tbody>\n",
       "    <tr>\n",
       "      <th>count</th>\n",
       "      <td>239.000000</td>\n",
       "      <td>239.000000</td>\n",
       "      <td>239.000000</td>\n",
       "      <td>239</td>\n",
       "    </tr>\n",
       "    <tr>\n",
       "      <th>mean</th>\n",
       "      <td>145.489540</td>\n",
       "      <td>32324.384937</td>\n",
       "      <td>8.288703</td>\n",
       "      <td>0 days 08:58:44.933054393</td>\n",
       "    </tr>\n",
       "    <tr>\n",
       "      <th>std</th>\n",
       "      <td>82.363963</td>\n",
       "      <td>102311.184679</td>\n",
       "      <td>2.259508</td>\n",
       "      <td>1 days 04:25:11.171729398</td>\n",
       "    </tr>\n",
       "    <tr>\n",
       "      <th>min</th>\n",
       "      <td>1.000000</td>\n",
       "      <td>216.000000</td>\n",
       "      <td>0.000000</td>\n",
       "      <td>0 days 00:03:36</td>\n",
       "    </tr>\n",
       "    <tr>\n",
       "      <th>25%</th>\n",
       "      <td>74.500000</td>\n",
       "      <td>767.500000</td>\n",
       "      <td>7.000000</td>\n",
       "      <td>0 days 00:12:48</td>\n",
       "    </tr>\n",
       "    <tr>\n",
       "      <th>50%</th>\n",
       "      <td>146.000000</td>\n",
       "      <td>1114.000000</td>\n",
       "      <td>9.000000</td>\n",
       "      <td>0 days 00:18:35</td>\n",
       "    </tr>\n",
       "    <tr>\n",
       "      <th>75%</th>\n",
       "      <td>216.500000</td>\n",
       "      <td>2498.500000</td>\n",
       "      <td>10.000000</td>\n",
       "      <td>0 days 00:41:39</td>\n",
       "    </tr>\n",
       "    <tr>\n",
       "      <th>max</th>\n",
       "      <td>284.000000</td>\n",
       "      <td>604190.000000</td>\n",
       "      <td>10.000000</td>\n",
       "      <td>6 days 23:49:51</td>\n",
       "    </tr>\n",
       "  </tbody>\n",
       "</table>\n",
       "</div>"
      ],
      "text/plain": [
       "               ID  Post_Duration_(in_seconds)  Likelihood_of_Recommendation        Post_SurveyDuration\n",
       "count  239.000000                  239.000000                    239.000000                        239\n",
       "mean   145.489540                32324.384937                      8.288703  0 days 08:58:44.933054393\n",
       "std     82.363963               102311.184679                      2.259508  1 days 04:25:11.171729398\n",
       "min      1.000000                  216.000000                      0.000000            0 days 00:03:36\n",
       "25%     74.500000                  767.500000                      7.000000            0 days 00:12:48\n",
       "50%    146.000000                 1114.000000                      9.000000            0 days 00:18:35\n",
       "75%    216.500000                 2498.500000                     10.000000            0 days 00:41:39\n",
       "max    284.000000               604190.000000                     10.000000            6 days 23:49:51"
      ]
     },
     "execution_count": 36,
     "metadata": {},
     "output_type": "execute_result"
    }
   ],
   "source": [
    "postdf.describe()"
   ]
  },
  {
   "cell_type": "markdown",
   "metadata": {},
   "source": [
    "# Frequencies"
   ]
  },
  {
   "cell_type": "code",
   "execution_count": 37,
   "metadata": {},
   "outputs": [
    {
     "data": {
      "text/html": [
       "<div>\n",
       "<style scoped>\n",
       "    .dataframe tbody tr th:only-of-type {\n",
       "        vertical-align: middle;\n",
       "    }\n",
       "\n",
       "    .dataframe tbody tr th {\n",
       "        vertical-align: top;\n",
       "    }\n",
       "\n",
       "    .dataframe thead th {\n",
       "        text-align: right;\n",
       "    }\n",
       "</style>\n",
       "<table border=\"1\" class=\"dataframe\">\n",
       "  <thead>\n",
       "    <tr style=\"text-align: right;\">\n",
       "      <th></th>\n",
       "      <th>I Have the Ability to Get the Job I Want</th>\n",
       "      <th>Frequency</th>\n",
       "      <th>Percentage of Occurrence</th>\n",
       "    </tr>\n",
       "  </thead>\n",
       "  <tbody>\n",
       "    <tr>\n",
       "      <th>0</th>\n",
       "      <td>Agree</td>\n",
       "      <td>76</td>\n",
       "      <td>31.8</td>\n",
       "    </tr>\n",
       "    <tr>\n",
       "      <th>1</th>\n",
       "      <td>Strongly agree</td>\n",
       "      <td>67</td>\n",
       "      <td>28.0</td>\n",
       "    </tr>\n",
       "    <tr>\n",
       "      <th>2</th>\n",
       "      <td>Moderately Agree</td>\n",
       "      <td>57</td>\n",
       "      <td>23.8</td>\n",
       "    </tr>\n",
       "    <tr>\n",
       "      <th>3</th>\n",
       "      <td>Neutral</td>\n",
       "      <td>24</td>\n",
       "      <td>10.0</td>\n",
       "    </tr>\n",
       "    <tr>\n",
       "      <th>4</th>\n",
       "      <td>Moderately Disagree</td>\n",
       "      <td>10</td>\n",
       "      <td>4.2</td>\n",
       "    </tr>\n",
       "    <tr>\n",
       "      <th>5</th>\n",
       "      <td>Strongly Disagree</td>\n",
       "      <td>3</td>\n",
       "      <td>1.3</td>\n",
       "    </tr>\n",
       "    <tr>\n",
       "      <th>6</th>\n",
       "      <td>Disagree</td>\n",
       "      <td>2</td>\n",
       "      <td>0.8</td>\n",
       "    </tr>\n",
       "  </tbody>\n",
       "</table>\n",
       "</div>"
      ],
      "text/plain": [
       "  I Have the Ability to Get the Job I Want  Frequency  Percentage of Occurrence\n",
       "0                                    Agree         76                      31.8\n",
       "1                           Strongly agree         67                      28.0\n",
       "2                         Moderately Agree         57                      23.8\n",
       "3                                  Neutral         24                      10.0\n",
       "4                      Moderately Disagree         10                       4.2\n",
       "5                        Strongly Disagree          3                       1.3\n",
       "6                                 Disagree          2                       0.8"
      ]
     },
     "execution_count": 37,
     "metadata": {},
     "output_type": "execute_result"
    }
   ],
   "source": [
    "# Conduct Frequency of Occurence and Percentages for Multiple Categories\n",
    "\n",
    "Frequency7 = postdf.Post_Job_Ability_Certainty.value_counts().rename_axis('I Have the Ability to Get the Job I Want').reset_index(name='Frequency')\n",
    "Frequency7['Percentage of Occurrence'] = (Frequency7['Frequency'] / \n",
    "                  Frequency7['Frequency'].sum()) * 100\n",
    "Frequency7.round(1)"
   ]
  },
  {
   "cell_type": "code",
   "execution_count": 38,
   "metadata": {},
   "outputs": [
    {
     "data": {
      "text/html": [
       "<div>\n",
       "<style scoped>\n",
       "    .dataframe tbody tr th:only-of-type {\n",
       "        vertical-align: middle;\n",
       "    }\n",
       "\n",
       "    .dataframe tbody tr th {\n",
       "        vertical-align: top;\n",
       "    }\n",
       "\n",
       "    .dataframe thead th {\n",
       "        text-align: right;\n",
       "    }\n",
       "</style>\n",
       "<table border=\"1\" class=\"dataframe\">\n",
       "  <thead>\n",
       "    <tr style=\"text-align: right;\">\n",
       "      <th></th>\n",
       "      <th>I Have What It Takes to Get a Good Job</th>\n",
       "      <th>Frequency</th>\n",
       "      <th>Percentage of Occurrence</th>\n",
       "    </tr>\n",
       "  </thead>\n",
       "  <tbody>\n",
       "    <tr>\n",
       "      <th>0</th>\n",
       "      <td>Strongly agree</td>\n",
       "      <td>98</td>\n",
       "      <td>41.0</td>\n",
       "    </tr>\n",
       "    <tr>\n",
       "      <th>1</th>\n",
       "      <td>Agree</td>\n",
       "      <td>72</td>\n",
       "      <td>30.1</td>\n",
       "    </tr>\n",
       "    <tr>\n",
       "      <th>2</th>\n",
       "      <td>Moderately Agree</td>\n",
       "      <td>43</td>\n",
       "      <td>18.0</td>\n",
       "    </tr>\n",
       "    <tr>\n",
       "      <th>3</th>\n",
       "      <td>Neutral</td>\n",
       "      <td>17</td>\n",
       "      <td>7.1</td>\n",
       "    </tr>\n",
       "    <tr>\n",
       "      <th>4</th>\n",
       "      <td>Moderately Disagree</td>\n",
       "      <td>7</td>\n",
       "      <td>2.9</td>\n",
       "    </tr>\n",
       "    <tr>\n",
       "      <th>5</th>\n",
       "      <td>Disagree</td>\n",
       "      <td>1</td>\n",
       "      <td>0.4</td>\n",
       "    </tr>\n",
       "    <tr>\n",
       "      <th>6</th>\n",
       "      <td>Strongly Disagree</td>\n",
       "      <td>1</td>\n",
       "      <td>0.4</td>\n",
       "    </tr>\n",
       "  </tbody>\n",
       "</table>\n",
       "</div>"
      ],
      "text/plain": [
       "  I Have What It Takes to Get a Good Job   Frequency  Percentage of Occurrence\n",
       "0                          Strongly agree         98                      41.0\n",
       "1                                   Agree         72                      30.1\n",
       "2                        Moderately Agree         43                      18.0\n",
       "3                                 Neutral         17                       7.1\n",
       "4                     Moderately Disagree          7                       2.9\n",
       "5                                Disagree          1                       0.4\n",
       "6                       Strongly Disagree          1                       0.4"
      ]
     },
     "execution_count": 38,
     "metadata": {},
     "output_type": "execute_result"
    }
   ],
   "source": [
    "Frequency8 = postdf.Post_Job_Getting_Confidence.value_counts().rename_axis('I Have What It Takes to Get a Good Job ').reset_index(name='Frequency')\n",
    "Frequency8['Percentage of Occurrence'] = (Frequency8['Frequency'] / \n",
    "                  Frequency8['Frequency'].sum()) * 100\n",
    "Frequency8.round(1)"
   ]
  },
  {
   "cell_type": "code",
   "execution_count": 39,
   "metadata": {},
   "outputs": [
    {
     "data": {
      "text/html": [
       "<div>\n",
       "<style scoped>\n",
       "    .dataframe tbody tr th:only-of-type {\n",
       "        vertical-align: middle;\n",
       "    }\n",
       "\n",
       "    .dataframe tbody tr th {\n",
       "        vertical-align: top;\n",
       "    }\n",
       "\n",
       "    .dataframe thead th {\n",
       "        text-align: right;\n",
       "    }\n",
       "</style>\n",
       "<table border=\"1\" class=\"dataframe\">\n",
       "  <thead>\n",
       "    <tr style=\"text-align: right;\">\n",
       "      <th></th>\n",
       "      <th>Im Certain that My Job Search Will Be Successful</th>\n",
       "      <th>Frequency</th>\n",
       "      <th>Percentage of Occurrence</th>\n",
       "    </tr>\n",
       "  </thead>\n",
       "  <tbody>\n",
       "    <tr>\n",
       "      <th>0</th>\n",
       "      <td>Strongly agree</td>\n",
       "      <td>89</td>\n",
       "      <td>37.2</td>\n",
       "    </tr>\n",
       "    <tr>\n",
       "      <th>1</th>\n",
       "      <td>Agree</td>\n",
       "      <td>78</td>\n",
       "      <td>32.6</td>\n",
       "    </tr>\n",
       "    <tr>\n",
       "      <th>2</th>\n",
       "      <td>Moderately Agree</td>\n",
       "      <td>34</td>\n",
       "      <td>14.2</td>\n",
       "    </tr>\n",
       "    <tr>\n",
       "      <th>3</th>\n",
       "      <td>Neutral</td>\n",
       "      <td>30</td>\n",
       "      <td>12.6</td>\n",
       "    </tr>\n",
       "    <tr>\n",
       "      <th>4</th>\n",
       "      <td>Moderately Disagree</td>\n",
       "      <td>6</td>\n",
       "      <td>2.5</td>\n",
       "    </tr>\n",
       "    <tr>\n",
       "      <th>5</th>\n",
       "      <td>Disagree</td>\n",
       "      <td>1</td>\n",
       "      <td>0.4</td>\n",
       "    </tr>\n",
       "    <tr>\n",
       "      <th>6</th>\n",
       "      <td>Strongly Disagree</td>\n",
       "      <td>1</td>\n",
       "      <td>0.4</td>\n",
       "    </tr>\n",
       "  </tbody>\n",
       "</table>\n",
       "</div>"
      ],
      "text/plain": [
       "  Im Certain that My Job Search Will Be Successful   Frequency  Percentage of Occurrence\n",
       "0                                    Strongly agree         89                      37.2\n",
       "1                                             Agree         78                      32.6\n",
       "2                                  Moderately Agree         34                      14.2\n",
       "3                                           Neutral         30                      12.6\n",
       "4                               Moderately Disagree          6                       2.5\n",
       "5                                          Disagree          1                       0.4\n",
       "6                                 Strongly Disagree          1                       0.4"
      ]
     },
     "execution_count": 39,
     "metadata": {},
     "output_type": "execute_result"
    }
   ],
   "source": [
    "Frequency9 = postdf.Post_Successful_Job_Search_Certainty.value_counts().rename_axis('Im Certain that My Job Search Will Be Successful ').reset_index(name='Frequency')\n",
    "Frequency9['Percentage of Occurrence'] = (Frequency9['Frequency'] / \n",
    "                  Frequency9['Frequency'].sum()) * 100\n",
    "Frequency9.round(1)"
   ]
  },
  {
   "cell_type": "code",
   "execution_count": 40,
   "metadata": {},
   "outputs": [
    {
     "data": {
      "text/html": [
       "<div>\n",
       "<style scoped>\n",
       "    .dataframe tbody tr th:only-of-type {\n",
       "        vertical-align: middle;\n",
       "    }\n",
       "\n",
       "    .dataframe tbody tr th {\n",
       "        vertical-align: top;\n",
       "    }\n",
       "\n",
       "    .dataframe thead th {\n",
       "        text-align: right;\n",
       "    }\n",
       "</style>\n",
       "<table border=\"1\" class=\"dataframe\">\n",
       "  <thead>\n",
       "    <tr style=\"text-align: right;\">\n",
       "      <th></th>\n",
       "      <th>Rating - Likelihood of Recommending Braven</th>\n",
       "      <th>Frequency</th>\n",
       "      <th>Percentage of Occurrence</th>\n",
       "    </tr>\n",
       "  </thead>\n",
       "  <tbody>\n",
       "    <tr>\n",
       "      <th>0</th>\n",
       "      <td>10</td>\n",
       "      <td>106</td>\n",
       "      <td>44.4</td>\n",
       "    </tr>\n",
       "    <tr>\n",
       "      <th>1</th>\n",
       "      <td>8</td>\n",
       "      <td>36</td>\n",
       "      <td>15.1</td>\n",
       "    </tr>\n",
       "    <tr>\n",
       "      <th>2</th>\n",
       "      <td>9</td>\n",
       "      <td>33</td>\n",
       "      <td>13.8</td>\n",
       "    </tr>\n",
       "    <tr>\n",
       "      <th>3</th>\n",
       "      <td>7</td>\n",
       "      <td>27</td>\n",
       "      <td>11.3</td>\n",
       "    </tr>\n",
       "    <tr>\n",
       "      <th>4</th>\n",
       "      <td>5</td>\n",
       "      <td>11</td>\n",
       "      <td>4.6</td>\n",
       "    </tr>\n",
       "    <tr>\n",
       "      <th>5</th>\n",
       "      <td>6</td>\n",
       "      <td>10</td>\n",
       "      <td>4.2</td>\n",
       "    </tr>\n",
       "    <tr>\n",
       "      <th>6</th>\n",
       "      <td>4</td>\n",
       "      <td>4</td>\n",
       "      <td>1.7</td>\n",
       "    </tr>\n",
       "    <tr>\n",
       "      <th>7</th>\n",
       "      <td>2</td>\n",
       "      <td>4</td>\n",
       "      <td>1.7</td>\n",
       "    </tr>\n",
       "    <tr>\n",
       "      <th>8</th>\n",
       "      <td>0</td>\n",
       "      <td>4</td>\n",
       "      <td>1.7</td>\n",
       "    </tr>\n",
       "    <tr>\n",
       "      <th>9</th>\n",
       "      <td>3</td>\n",
       "      <td>2</td>\n",
       "      <td>0.8</td>\n",
       "    </tr>\n",
       "    <tr>\n",
       "      <th>10</th>\n",
       "      <td>1</td>\n",
       "      <td>2</td>\n",
       "      <td>0.8</td>\n",
       "    </tr>\n",
       "  </tbody>\n",
       "</table>\n",
       "</div>"
      ],
      "text/plain": [
       "    Rating - Likelihood of Recommending Braven  Frequency  Percentage of Occurrence\n",
       "0                                           10        106                      44.4\n",
       "1                                            8         36                      15.1\n",
       "2                                            9         33                      13.8\n",
       "3                                            7         27                      11.3\n",
       "4                                            5         11                       4.6\n",
       "5                                            6         10                       4.2\n",
       "6                                            4          4                       1.7\n",
       "7                                            2          4                       1.7\n",
       "8                                            0          4                       1.7\n",
       "9                                            3          2                       0.8\n",
       "10                                           1          2                       0.8"
      ]
     },
     "execution_count": 40,
     "metadata": {},
     "output_type": "execute_result"
    }
   ],
   "source": [
    "Frequency10 = postdf.Likelihood_of_Recommendation.value_counts().rename_axis('Rating - Likelihood of Recommending Braven').reset_index(name='Frequency')\n",
    "Frequency10['Percentage of Occurrence'] = (Frequency10['Frequency'] / \n",
    "                  Frequency10['Frequency'].sum()) * 100\n",
    "Frequency10.round(1)"
   ]
  },
  {
   "cell_type": "code",
   "execution_count": 41,
   "metadata": {},
   "outputs": [
    {
     "data": {
      "text/html": [
       "<div>\n",
       "<style scoped>\n",
       "    .dataframe tbody tr th:only-of-type {\n",
       "        vertical-align: middle;\n",
       "    }\n",
       "\n",
       "    .dataframe tbody tr th {\n",
       "        vertical-align: top;\n",
       "    }\n",
       "\n",
       "    .dataframe thead th {\n",
       "        text-align: right;\n",
       "    }\n",
       "</style>\n",
       "<table border=\"1\" class=\"dataframe\">\n",
       "  <thead>\n",
       "    <tr style=\"text-align: right;\">\n",
       "      <th></th>\n",
       "      <th>Received Valuable Professional/Personal Development</th>\n",
       "      <th>Frequency</th>\n",
       "      <th>Percentage of Occurrence</th>\n",
       "    </tr>\n",
       "  </thead>\n",
       "  <tbody>\n",
       "    <tr>\n",
       "      <th>0</th>\n",
       "      <td>Strongly agree</td>\n",
       "      <td>90</td>\n",
       "      <td>37.7</td>\n",
       "    </tr>\n",
       "    <tr>\n",
       "      <th>1</th>\n",
       "      <td>Agree</td>\n",
       "      <td>65</td>\n",
       "      <td>27.2</td>\n",
       "    </tr>\n",
       "    <tr>\n",
       "      <th>2</th>\n",
       "      <td>Moderately agree</td>\n",
       "      <td>48</td>\n",
       "      <td>20.1</td>\n",
       "    </tr>\n",
       "    <tr>\n",
       "      <th>3</th>\n",
       "      <td>Neutral</td>\n",
       "      <td>17</td>\n",
       "      <td>7.1</td>\n",
       "    </tr>\n",
       "    <tr>\n",
       "      <th>4</th>\n",
       "      <td>Disagree</td>\n",
       "      <td>9</td>\n",
       "      <td>3.8</td>\n",
       "    </tr>\n",
       "    <tr>\n",
       "      <th>5</th>\n",
       "      <td>Strongly Disagree</td>\n",
       "      <td>6</td>\n",
       "      <td>2.5</td>\n",
       "    </tr>\n",
       "    <tr>\n",
       "      <th>6</th>\n",
       "      <td>Moderately disagree</td>\n",
       "      <td>4</td>\n",
       "      <td>1.7</td>\n",
       "    </tr>\n",
       "  </tbody>\n",
       "</table>\n",
       "</div>"
      ],
      "text/plain": [
       "  Received Valuable Professional/Personal Development  Frequency  Percentage of Occurrence\n",
       "0                                     Strongly agree          90                      37.7\n",
       "1                                              Agree          65                      27.2\n",
       "2                                   Moderately agree          48                      20.1\n",
       "3                                            Neutral          17                       7.1\n",
       "4                                           Disagree           9                       3.8\n",
       "5                                  Strongly Disagree           6                       2.5\n",
       "6                                Moderately disagree           4                       1.7"
      ]
     },
     "execution_count": 41,
     "metadata": {},
     "output_type": "execute_result"
    }
   ],
   "source": [
    "Frequency11 = postdf.Valuable_Professional_PersonalDevelopment_Experience.value_counts().rename_axis('Received Valuable Professional/Personal Development').reset_index(name='Frequency')\n",
    "Frequency11['Percentage of Occurrence'] = (Frequency11['Frequency'] / \n",
    "                  Frequency11['Frequency'].sum()) * 100\n",
    "Frequency11.round(1)"
   ]
  },
  {
   "cell_type": "code",
   "execution_count": 42,
   "metadata": {},
   "outputs": [
    {
     "data": {
      "text/html": [
       "<div>\n",
       "<style scoped>\n",
       "    .dataframe tbody tr th:only-of-type {\n",
       "        vertical-align: middle;\n",
       "    }\n",
       "\n",
       "    .dataframe tbody tr th {\n",
       "        vertical-align: top;\n",
       "    }\n",
       "\n",
       "    .dataframe thead th {\n",
       "        text-align: right;\n",
       "    }\n",
       "</style>\n",
       "<table border=\"1\" class=\"dataframe\">\n",
       "  <thead>\n",
       "    <tr style=\"text-align: right;\">\n",
       "      <th></th>\n",
       "      <th>Believes Braven is More Than a Course</th>\n",
       "      <th>Frequency</th>\n",
       "      <th>Percentage of Occurrence</th>\n",
       "    </tr>\n",
       "  </thead>\n",
       "  <tbody>\n",
       "    <tr>\n",
       "      <th>0</th>\n",
       "      <td>Strongly agree</td>\n",
       "      <td>81</td>\n",
       "      <td>33.9</td>\n",
       "    </tr>\n",
       "    <tr>\n",
       "      <th>1</th>\n",
       "      <td>Agree</td>\n",
       "      <td>63</td>\n",
       "      <td>26.4</td>\n",
       "    </tr>\n",
       "    <tr>\n",
       "      <th>2</th>\n",
       "      <td>Moderately agree</td>\n",
       "      <td>45</td>\n",
       "      <td>18.8</td>\n",
       "    </tr>\n",
       "    <tr>\n",
       "      <th>3</th>\n",
       "      <td>Neither agree nor disagree</td>\n",
       "      <td>24</td>\n",
       "      <td>10.0</td>\n",
       "    </tr>\n",
       "    <tr>\n",
       "      <th>4</th>\n",
       "      <td>Moderately disagree</td>\n",
       "      <td>12</td>\n",
       "      <td>5.0</td>\n",
       "    </tr>\n",
       "    <tr>\n",
       "      <th>5</th>\n",
       "      <td>Disagree</td>\n",
       "      <td>8</td>\n",
       "      <td>3.3</td>\n",
       "    </tr>\n",
       "    <tr>\n",
       "      <th>6</th>\n",
       "      <td>Strongly Disagree</td>\n",
       "      <td>6</td>\n",
       "      <td>2.5</td>\n",
       "    </tr>\n",
       "  </tbody>\n",
       "</table>\n",
       "</div>"
      ],
      "text/plain": [
       "  Believes Braven is More Than a Course  Frequency  Percentage of Occurrence\n",
       "0                        Strongly agree         81                      33.9\n",
       "1                                 Agree         63                      26.4\n",
       "2                      Moderately agree         45                      18.8\n",
       "3            Neither agree nor disagree         24                      10.0\n",
       "4                   Moderately disagree         12                       5.0\n",
       "5                              Disagree          8                       3.3\n",
       "6                     Strongly Disagree          6                       2.5"
      ]
     },
     "execution_count": 42,
     "metadata": {},
     "output_type": "execute_result"
    }
   ],
   "source": [
    "Frequency12 = postdf.Braven_More_Than_a_Course_Perception.value_counts().rename_axis('Believes Braven is More Than a Course').reset_index(name='Frequency')\n",
    "Frequency12['Percentage of Occurrence'] = (Frequency12['Frequency'] / \n",
    "                  Frequency12['Frequency'].sum()) * 100\n",
    "Frequency12.round(1)"
   ]
  },
  {
   "cell_type": "code",
   "execution_count": 43,
   "metadata": {},
   "outputs": [
    {
     "data": {
      "text/html": [
       "<div>\n",
       "<style scoped>\n",
       "    .dataframe tbody tr th:only-of-type {\n",
       "        vertical-align: middle;\n",
       "    }\n",
       "\n",
       "    .dataframe tbody tr th {\n",
       "        vertical-align: top;\n",
       "    }\n",
       "\n",
       "    .dataframe thead th {\n",
       "        text-align: right;\n",
       "    }\n",
       "</style>\n",
       "<table border=\"1\" class=\"dataframe\">\n",
       "  <thead>\n",
       "    <tr style=\"text-align: right;\">\n",
       "      <th></th>\n",
       "      <th>Mentor Encourages Goals and Dreams</th>\n",
       "      <th>Frequency</th>\n",
       "      <th>Percentage of Occurrence</th>\n",
       "    </tr>\n",
       "  </thead>\n",
       "  <tbody>\n",
       "    <tr>\n",
       "      <th>0</th>\n",
       "      <td>Strongly agree</td>\n",
       "      <td>96</td>\n",
       "      <td>40.2</td>\n",
       "    </tr>\n",
       "    <tr>\n",
       "      <th>1</th>\n",
       "      <td>Agree</td>\n",
       "      <td>68</td>\n",
       "      <td>28.5</td>\n",
       "    </tr>\n",
       "    <tr>\n",
       "      <th>2</th>\n",
       "      <td>Moderately agree</td>\n",
       "      <td>34</td>\n",
       "      <td>14.2</td>\n",
       "    </tr>\n",
       "    <tr>\n",
       "      <th>3</th>\n",
       "      <td>Neither agree nor disagree</td>\n",
       "      <td>23</td>\n",
       "      <td>9.6</td>\n",
       "    </tr>\n",
       "    <tr>\n",
       "      <th>4</th>\n",
       "      <td>Disagree</td>\n",
       "      <td>10</td>\n",
       "      <td>4.2</td>\n",
       "    </tr>\n",
       "    <tr>\n",
       "      <th>5</th>\n",
       "      <td>Moderately disagree</td>\n",
       "      <td>4</td>\n",
       "      <td>1.7</td>\n",
       "    </tr>\n",
       "    <tr>\n",
       "      <th>6</th>\n",
       "      <td>Strongly Disagree</td>\n",
       "      <td>4</td>\n",
       "      <td>1.7</td>\n",
       "    </tr>\n",
       "  </tbody>\n",
       "</table>\n",
       "</div>"
      ],
      "text/plain": [
       "  Mentor Encourages Goals and Dreams  Frequency  Percentage of Occurrence\n",
       "0                     Strongly agree         96                      40.2\n",
       "1                              Agree         68                      28.5\n",
       "2                   Moderately agree         34                      14.2\n",
       "3         Neither agree nor disagree         23                       9.6\n",
       "4                           Disagree         10                       4.2\n",
       "5                Moderately disagree          4                       1.7\n",
       "6                  Strongly Disagree          4                       1.7"
      ]
     },
     "execution_count": 43,
     "metadata": {},
     "output_type": "execute_result"
    }
   ],
   "source": [
    "Frequency13 = postdf.Mentor_Goals_Dreams_Encouragement.value_counts().rename_axis('Mentor Encourages Goals and Dreams').reset_index(name='Frequency')\n",
    "Frequency13['Percentage of Occurrence'] = (Frequency13['Frequency'] / \n",
    "                  Frequency13['Frequency'].sum()) * 100\n",
    "Frequency13.round(1)"
   ]
  },
  {
   "cell_type": "code",
   "execution_count": 44,
   "metadata": {},
   "outputs": [
    {
     "data": {
      "text/html": [
       "<div>\n",
       "<style scoped>\n",
       "    .dataframe tbody tr th:only-of-type {\n",
       "        vertical-align: middle;\n",
       "    }\n",
       "\n",
       "    .dataframe tbody tr th {\n",
       "        vertical-align: top;\n",
       "    }\n",
       "\n",
       "    .dataframe thead th {\n",
       "        text-align: right;\n",
       "    }\n",
       "</style>\n",
       "<table border=\"1\" class=\"dataframe\">\n",
       "  <thead>\n",
       "    <tr style=\"text-align: right;\">\n",
       "      <th></th>\n",
       "      <th>Average Time to Complete Coursework</th>\n",
       "      <th>Frequency</th>\n",
       "      <th>Percentage of Occurrence</th>\n",
       "    </tr>\n",
       "  </thead>\n",
       "  <tbody>\n",
       "    <tr>\n",
       "      <th>0</th>\n",
       "      <td>Somewhat more than other courses</td>\n",
       "      <td>74</td>\n",
       "      <td>31.0</td>\n",
       "    </tr>\n",
       "    <tr>\n",
       "      <th>1</th>\n",
       "      <td>About the same as other courses</td>\n",
       "      <td>67</td>\n",
       "      <td>28.0</td>\n",
       "    </tr>\n",
       "    <tr>\n",
       "      <th>2</th>\n",
       "      <td>Somewhat less than other courses</td>\n",
       "      <td>44</td>\n",
       "      <td>18.4</td>\n",
       "    </tr>\n",
       "    <tr>\n",
       "      <th>3</th>\n",
       "      <td>Far more than other courses</td>\n",
       "      <td>41</td>\n",
       "      <td>17.2</td>\n",
       "    </tr>\n",
       "    <tr>\n",
       "      <th>4</th>\n",
       "      <td>Far less than other courses</td>\n",
       "      <td>13</td>\n",
       "      <td>5.4</td>\n",
       "    </tr>\n",
       "  </tbody>\n",
       "</table>\n",
       "</div>"
      ],
      "text/plain": [
       "  Average Time to Complete Coursework   Frequency  Percentage of Occurrence\n",
       "0     Somewhat more than other courses         74                      31.0\n",
       "1      About the same as other courses         67                      28.0\n",
       "2     Somewhat less than other courses         44                      18.4\n",
       "3          Far more than other courses         41                      17.2\n",
       "4          Far less than other courses         13                       5.4"
      ]
     },
     "execution_count": 44,
     "metadata": {},
     "output_type": "execute_result"
    }
   ],
   "source": [
    "Frequency14 = postdf.Braven_Coursework_Time_Completion.value_counts().rename_axis('Average Time to Complete Coursework ').reset_index(name='Frequency')\n",
    "Frequency14['Percentage of Occurrence'] = (Frequency14['Frequency'] / \n",
    "                  Frequency14['Frequency'].sum()) * 100\n",
    "Frequency14.round(1)"
   ]
  },
  {
   "cell_type": "code",
   "execution_count": 45,
   "metadata": {},
   "outputs": [
    {
     "data": {
      "text/html": [
       "<div>\n",
       "<style scoped>\n",
       "    .dataframe tbody tr th:only-of-type {\n",
       "        vertical-align: middle;\n",
       "    }\n",
       "\n",
       "    .dataframe tbody tr th {\n",
       "        vertical-align: top;\n",
       "    }\n",
       "\n",
       "    .dataframe thead th {\n",
       "        text-align: right;\n",
       "    }\n",
       "</style>\n",
       "<table border=\"1\" class=\"dataframe\">\n",
       "  <thead>\n",
       "    <tr style=\"text-align: right;\">\n",
       "      <th></th>\n",
       "      <th>Coursework Complexity</th>\n",
       "      <th>Frequency</th>\n",
       "      <th>Percentage of Occurrence</th>\n",
       "    </tr>\n",
       "  </thead>\n",
       "  <tbody>\n",
       "    <tr>\n",
       "      <th>0</th>\n",
       "      <td>About the same as other courses</td>\n",
       "      <td>77</td>\n",
       "      <td>32.2</td>\n",
       "    </tr>\n",
       "    <tr>\n",
       "      <th>1</th>\n",
       "      <td>Somewhat more challenging than other courses</td>\n",
       "      <td>57</td>\n",
       "      <td>23.8</td>\n",
       "    </tr>\n",
       "    <tr>\n",
       "      <th>2</th>\n",
       "      <td>Somewhat less challenging than other courses</td>\n",
       "      <td>53</td>\n",
       "      <td>22.2</td>\n",
       "    </tr>\n",
       "    <tr>\n",
       "      <th>3</th>\n",
       "      <td>Far less challenging than other courses</td>\n",
       "      <td>38</td>\n",
       "      <td>15.9</td>\n",
       "    </tr>\n",
       "    <tr>\n",
       "      <th>4</th>\n",
       "      <td>Far more challenging than other courses</td>\n",
       "      <td>14</td>\n",
       "      <td>5.9</td>\n",
       "    </tr>\n",
       "  </tbody>\n",
       "</table>\n",
       "</div>"
      ],
      "text/plain": [
       "                          Coursework Complexity  Frequency  Percentage of Occurrence\n",
       "0               About the same as other courses         77                      32.2\n",
       "1  Somewhat more challenging than other courses         57                      23.8\n",
       "2  Somewhat less challenging than other courses         53                      22.2\n",
       "3       Far less challenging than other courses         38                      15.9\n",
       "4       Far more challenging than other courses         14                       5.9"
      ]
     },
     "execution_count": 45,
     "metadata": {},
     "output_type": "execute_result"
    }
   ],
   "source": [
    "Frequency15 = postdf.Braven_Coursework_Complexity.value_counts().rename_axis('Coursework Complexity').reset_index(name='Frequency')\n",
    "Frequency15['Percentage of Occurrence'] = (Frequency15['Frequency'] / \n",
    "                  Frequency15['Frequency'].sum()) * 100\n",
    "Frequency15.round(1)"
   ]
  },
  {
   "cell_type": "code",
   "execution_count": 46,
   "metadata": {},
   "outputs": [
    {
     "data": {
      "text/html": [
       "<div>\n",
       "<style scoped>\n",
       "    .dataframe tbody tr th:only-of-type {\n",
       "        vertical-align: middle;\n",
       "    }\n",
       "\n",
       "    .dataframe tbody tr th {\n",
       "        vertical-align: top;\n",
       "    }\n",
       "\n",
       "    .dataframe thead th {\n",
       "        text-align: right;\n",
       "    }\n",
       "</style>\n",
       "<table border=\"1\" class=\"dataframe\">\n",
       "  <thead>\n",
       "    <tr style=\"text-align: right;\">\n",
       "      <th></th>\n",
       "      <th>College Major</th>\n",
       "      <th>Frequency</th>\n",
       "      <th>Percentage of Occurrence</th>\n",
       "    </tr>\n",
       "  </thead>\n",
       "  <tbody>\n",
       "    <tr>\n",
       "      <th>0</th>\n",
       "      <td>Psychology</td>\n",
       "      <td>22</td>\n",
       "      <td>9.2</td>\n",
       "    </tr>\n",
       "    <tr>\n",
       "      <th>1</th>\n",
       "      <td>Business Management And Administration</td>\n",
       "      <td>22</td>\n",
       "      <td>9.2</td>\n",
       "    </tr>\n",
       "    <tr>\n",
       "      <th>2</th>\n",
       "      <td>Communications</td>\n",
       "      <td>17</td>\n",
       "      <td>7.1</td>\n",
       "    </tr>\n",
       "    <tr>\n",
       "      <th>3</th>\n",
       "      <td>Other [please specify]</td>\n",
       "      <td>17</td>\n",
       "      <td>7.1</td>\n",
       "    </tr>\n",
       "    <tr>\n",
       "      <th>4</th>\n",
       "      <td>Biology</td>\n",
       "      <td>15</td>\n",
       "      <td>6.3</td>\n",
       "    </tr>\n",
       "    <tr>\n",
       "      <th>...</th>\n",
       "      <td>...</td>\n",
       "      <td>...</td>\n",
       "      <td>...</td>\n",
       "    </tr>\n",
       "    <tr>\n",
       "      <th>46</th>\n",
       "      <td>Electrical Engineering</td>\n",
       "      <td>1</td>\n",
       "      <td>0.4</td>\n",
       "    </tr>\n",
       "    <tr>\n",
       "      <th>47</th>\n",
       "      <td>Social Work</td>\n",
       "      <td>1</td>\n",
       "      <td>0.4</td>\n",
       "    </tr>\n",
       "    <tr>\n",
       "      <th>48</th>\n",
       "      <td>Chemical Engineering</td>\n",
       "      <td>1</td>\n",
       "      <td>0.4</td>\n",
       "    </tr>\n",
       "    <tr>\n",
       "      <th>49</th>\n",
       "      <td>Chemistry</td>\n",
       "      <td>1</td>\n",
       "      <td>0.4</td>\n",
       "    </tr>\n",
       "    <tr>\n",
       "      <th>50</th>\n",
       "      <td>Hospitality Management</td>\n",
       "      <td>1</td>\n",
       "      <td>0.4</td>\n",
       "    </tr>\n",
       "  </tbody>\n",
       "</table>\n",
       "<p>51 rows × 3 columns</p>\n",
       "</div>"
      ],
      "text/plain": [
       "                             College Major  Frequency  Percentage of Occurrence\n",
       "0                               Psychology         22                       9.2\n",
       "1   Business Management And Administration         22                       9.2\n",
       "2                           Communications         17                       7.1\n",
       "3                   Other [please specify]         17                       7.1\n",
       "4                                  Biology         15                       6.3\n",
       "..                                     ...        ...                       ...\n",
       "46                  Electrical Engineering          1                       0.4\n",
       "47                             Social Work          1                       0.4\n",
       "48                    Chemical Engineering          1                       0.4\n",
       "49                               Chemistry          1                       0.4\n",
       "50                  Hospitality Management          1                       0.4\n",
       "\n",
       "[51 rows x 3 columns]"
      ]
     },
     "execution_count": 46,
     "metadata": {},
     "output_type": "execute_result"
    }
   ],
   "source": [
    "Frequency16 = postdf.College_Major.value_counts().rename_axis('College Major').reset_index(name='Frequency')\n",
    "Frequency16['Percentage of Occurrence'] = (Frequency16['Frequency'] / \n",
    "                  Frequency16['Frequency'].sum()) * 100\n",
    "Frequency16.round(1)"
   ]
  },
  {
   "cell_type": "markdown",
   "metadata": {},
   "source": [
    "# Time Series"
   ]
  },
  {
   "cell_type": "code",
   "execution_count": 47,
   "metadata": {},
   "outputs": [
    {
     "data": {
      "text/plain": [
       "Timestamp('2019-12-10 18:01:41')"
      ]
     },
     "execution_count": 47,
     "metadata": {},
     "output_type": "execute_result"
    }
   ],
   "source": [
    "# First Post Survey Started/Taken December 10th 2019\n",
    "postdf.Post_Start_Date.min()"
   ]
  },
  {
   "cell_type": "code",
   "execution_count": 48,
   "metadata": {},
   "outputs": [
    {
     "data": {
      "text/plain": [
       "Timestamp('2019-12-20 11:10:33')"
      ]
     },
     "execution_count": 48,
     "metadata": {},
     "output_type": "execute_result"
    }
   ],
   "source": [
    "# Last Post Survey Started/Taken \n",
    "postdf.Post_Start_Date.max()"
   ]
  },
  {
   "cell_type": "code",
   "execution_count": 49,
   "metadata": {},
   "outputs": [
    {
     "data": {
      "text/plain": [
       "Timestamp('2019-12-10 18:08:54')"
      ]
     },
     "execution_count": 49,
     "metadata": {},
     "output_type": "execute_result"
    }
   ],
   "source": [
    "# First Post Survey Completed/Submitted\n",
    "postdf.Post_End_Date.min()"
   ]
  },
  {
   "cell_type": "code",
   "execution_count": 50,
   "metadata": {},
   "outputs": [
    {
     "data": {
      "text/plain": [
       "Timestamp('2019-12-20 12:30:33')"
      ]
     },
     "execution_count": 50,
     "metadata": {},
     "output_type": "execute_result"
    }
   ],
   "source": [
    "# lAST Post Survey Completed/Submitted December 20th 2019\n",
    "postdf.Post_End_Date.max()"
   ]
  },
  {
   "cell_type": "markdown",
   "metadata": {},
   "source": [
    "## "
   ]
  },
  {
   "cell_type": "markdown",
   "metadata": {},
   "source": [
    "## "
   ]
  },
  {
   "cell_type": "markdown",
   "metadata": {},
   "source": [
    "## Join Both Pre- and Post-Survey Datasets"
   ]
  },
  {
   "cell_type": "code",
   "execution_count": 51,
   "metadata": {},
   "outputs": [],
   "source": [
    "# Merge Data via Outer Join to Include Rows from Both Tables Despite NaNs\n",
    "\n",
    "# Left Table - Predf - Before Survey\n",
    "# Right Table - Postdf - After Survey\n",
    "merged = pd.merge(predf, postdf, on='ID', how='outer',indicator=True)"
   ]
  },
  {
   "cell_type": "code",
   "execution_count": 52,
   "metadata": {},
   "outputs": [
    {
     "data": {
      "text/plain": [
       "(283, 27)"
      ]
     },
     "execution_count": 52,
     "metadata": {},
     "output_type": "execute_result"
    }
   ],
   "source": [
    "merged.shape"
   ]
  },
  {
   "cell_type": "code",
   "execution_count": 53,
   "metadata": {},
   "outputs": [
    {
     "name": "stdout",
     "output_type": "stream",
     "text": [
      "<class 'pandas.core.frame.DataFrame'>\n",
      "Int64Index: 283 entries, 0 to 282\n",
      "Data columns (total 27 columns):\n",
      " #   Column                                                Non-Null Count  Dtype          \n",
      "---  ------                                                --------------  -----          \n",
      " 0   ID                                                    283 non-null    int64          \n",
      " 1   Pre_Start_Date                                        246 non-null    datetime64[ns] \n",
      " 2   Pre_End_Date                                          246 non-null    datetime64[ns] \n",
      " 3   Duration_(in_seconds)                                 246 non-null    float64        \n",
      " 4   Pre_Job_Ability_Certainty                             246 non-null    object         \n",
      " 5   Pre_Job_Getting_Confidence                            246 non-null    object         \n",
      " 6   Pre_Successful_Job_Search_Certainty                   246 non-null    object         \n",
      " 7   Pre_Extracirrcular_Organizations                      246 non-null    float64        \n",
      " 8   Pre_Leadership_Positions                              246 non-null    float64        \n",
      " 9   Pre_Internships_CoOps                                 246 non-null    float64        \n",
      " 10  Pre_SurveyDuration                                    246 non-null    timedelta64[ns]\n",
      " 11  Site                                                  239 non-null    object         \n",
      " 12  Post_Start_Date                                       239 non-null    datetime64[ns] \n",
      " 13  Post_End_Date                                         239 non-null    datetime64[ns] \n",
      " 14  Post_Duration_(in_seconds)                            239 non-null    float64        \n",
      " 15  Likelihood_of_Recommendation                          239 non-null    float64        \n",
      " 16  Valuable_Professional_PersonalDevelopment_Experience  239 non-null    object         \n",
      " 17  Braven_More_Than_a_Course_Perception                  239 non-null    object         \n",
      " 18  Mentor_Goals_Dreams_Encouragement                     239 non-null    object         \n",
      " 19  Braven_Coursework_Time_Completion                     239 non-null    object         \n",
      " 20  Braven_Coursework_Complexity                          239 non-null    object         \n",
      " 21  College_Major                                         239 non-null    object         \n",
      " 22  Post_Job_Ability_Certainty                            239 non-null    object         \n",
      " 23  Post_Job_Getting_Confidence                           239 non-null    object         \n",
      " 24  Post_Successful_Job_Search_Certainty                  239 non-null    object         \n",
      " 25  Post_SurveyDuration                                   239 non-null    timedelta64[ns]\n",
      " 26  _merge                                                283 non-null    category       \n",
      "dtypes: category(1), datetime64[ns](4), float64(6), int64(1), object(13), timedelta64[ns](2)\n",
      "memory usage: 60.1+ KB\n"
     ]
    }
   ],
   "source": [
    "merged.info()"
   ]
  },
  {
   "cell_type": "code",
   "execution_count": 54,
   "metadata": {},
   "outputs": [
    {
     "data": {
      "text/plain": [
       "ID                                                       0\n",
       "Pre_Start_Date                                          37\n",
       "Pre_End_Date                                            37\n",
       "Duration_(in_seconds)                                   37\n",
       "Pre_Job_Ability_Certainty                               37\n",
       "Pre_Job_Getting_Confidence                              37\n",
       "Pre_Successful_Job_Search_Certainty                     37\n",
       "Pre_Extracirrcular_Organizations                        37\n",
       "Pre_Leadership_Positions                                37\n",
       "Pre_Internships_CoOps                                   37\n",
       "Pre_SurveyDuration                                      37\n",
       "Site                                                    44\n",
       "Post_Start_Date                                         44\n",
       "Post_End_Date                                           44\n",
       "Post_Duration_(in_seconds)                              44\n",
       "Likelihood_of_Recommendation                            44\n",
       "Valuable_Professional_PersonalDevelopment_Experience    44\n",
       "Braven_More_Than_a_Course_Perception                    44\n",
       "Mentor_Goals_Dreams_Encouragement                       44\n",
       "Braven_Coursework_Time_Completion                       44\n",
       "Braven_Coursework_Complexity                            44\n",
       "College_Major                                           44\n",
       "Post_Job_Ability_Certainty                              44\n",
       "Post_Job_Getting_Confidence                             44\n",
       "Post_Successful_Job_Search_Certainty                    44\n",
       "Post_SurveyDuration                                     44\n",
       "_merge                                                   0\n",
       "dtype: int64"
      ]
     },
     "execution_count": 54,
     "metadata": {},
     "output_type": "execute_result"
    }
   ],
   "source": [
    "merged.isnull().sum()"
   ]
  },
  {
   "cell_type": "code",
   "execution_count": 55,
   "metadata": {},
   "outputs": [
    {
     "data": {
      "text/plain": [
       "both          202\n",
       "left_only      44\n",
       "right_only     37\n",
       "Name: _merge, dtype: int64"
      ]
     },
     "execution_count": 55,
     "metadata": {},
     "output_type": "execute_result"
    }
   ],
   "source": [
    "# Count of Non Survey Takers\n",
    "# Left Table - Predf - Before Survey\n",
    "# Right Table - Postdf - After Survey\n",
    "merged['_merge'].value_counts()"
   ]
  },
  {
   "cell_type": "markdown",
   "metadata": {},
   "source": [
    "## INNER JOIN"
   ]
  },
  {
   "cell_type": "code",
   "execution_count": 56,
   "metadata": {},
   "outputs": [],
   "source": [
    "# INNER Join Datasets with ONLY MATCHING VALUES\n",
    "result = pd.merge(predf, postdf)"
   ]
  },
  {
   "cell_type": "code",
   "execution_count": 57,
   "metadata": {},
   "outputs": [
    {
     "data": {
      "text/plain": [
       "(202, 26)"
      ]
     },
     "execution_count": 57,
     "metadata": {},
     "output_type": "execute_result"
    }
   ],
   "source": [
    "# People Who completed both Pre and Post Accelerator Surveys\n",
    "# Only 202 Participants Completed Both Surveys, 202 Records Accounts for 71.4% of the Data\n",
    "result.shape"
   ]
  },
  {
   "cell_type": "code",
   "execution_count": 58,
   "metadata": {},
   "outputs": [],
   "source": [
    "# Identify Actual Missing Pre- and Post- Survey Participants"
   ]
  },
  {
   "cell_type": "code",
   "execution_count": 59,
   "metadata": {},
   "outputs": [],
   "source": [
    "nonpostsurveytakers = predf[~predf.ID.isin(result.ID)]"
   ]
  },
  {
   "cell_type": "code",
   "execution_count": 60,
   "metadata": {},
   "outputs": [
    {
     "data": {
      "text/plain": [
       "(44, 11)"
      ]
     },
     "execution_count": 60,
     "metadata": {},
     "output_type": "execute_result"
    }
   ],
   "source": [
    "# Amount of Pre Survey Takers Who Did Not Complete Post-Accelerator Survey\n",
    "nonpostsurveytakers.shape"
   ]
  },
  {
   "cell_type": "code",
   "execution_count": 61,
   "metadata": {},
   "outputs": [],
   "source": [
    "nonpresurveytakers = postdf[~postdf.ID.isin(result.ID)]"
   ]
  },
  {
   "cell_type": "code",
   "execution_count": 62,
   "metadata": {},
   "outputs": [
    {
     "data": {
      "text/plain": [
       "(37, 16)"
      ]
     },
     "execution_count": 62,
     "metadata": {},
     "output_type": "execute_result"
    }
   ],
   "source": [
    "# Amount of Post Survey Takers Who Did Not Complete Pre-Accelerator Survey\n",
    "nonpresurveytakers.shape"
   ]
  },
  {
   "cell_type": "code",
   "execution_count": 63,
   "metadata": {},
   "outputs": [
    {
     "name": "stdout",
     "output_type": "stream",
     "text": [
      "<class 'pandas.core.frame.DataFrame'>\n",
      "Int64Index: 202 entries, 0 to 201\n",
      "Data columns (total 26 columns):\n",
      " #   Column                                                Non-Null Count  Dtype          \n",
      "---  ------                                                --------------  -----          \n",
      " 0   ID                                                    202 non-null    int64          \n",
      " 1   Pre_Start_Date                                        202 non-null    datetime64[ns] \n",
      " 2   Pre_End_Date                                          202 non-null    datetime64[ns] \n",
      " 3   Duration_(in_seconds)                                 202 non-null    int64          \n",
      " 4   Pre_Job_Ability_Certainty                             202 non-null    object         \n",
      " 5   Pre_Job_Getting_Confidence                            202 non-null    object         \n",
      " 6   Pre_Successful_Job_Search_Certainty                   202 non-null    object         \n",
      " 7   Pre_Extracirrcular_Organizations                      202 non-null    int64          \n",
      " 8   Pre_Leadership_Positions                              202 non-null    int64          \n",
      " 9   Pre_Internships_CoOps                                 202 non-null    int64          \n",
      " 10  Pre_SurveyDuration                                    202 non-null    timedelta64[ns]\n",
      " 11  Site                                                  202 non-null    object         \n",
      " 12  Post_Start_Date                                       202 non-null    datetime64[ns] \n",
      " 13  Post_End_Date                                         202 non-null    datetime64[ns] \n",
      " 14  Post_Duration_(in_seconds)                            202 non-null    int64          \n",
      " 15  Likelihood_of_Recommendation                          202 non-null    int64          \n",
      " 16  Valuable_Professional_PersonalDevelopment_Experience  202 non-null    object         \n",
      " 17  Braven_More_Than_a_Course_Perception                  202 non-null    object         \n",
      " 18  Mentor_Goals_Dreams_Encouragement                     202 non-null    object         \n",
      " 19  Braven_Coursework_Time_Completion                     202 non-null    object         \n",
      " 20  Braven_Coursework_Complexity                          202 non-null    object         \n",
      " 21  College_Major                                         202 non-null    object         \n",
      " 22  Post_Job_Ability_Certainty                            202 non-null    object         \n",
      " 23  Post_Job_Getting_Confidence                           202 non-null    object         \n",
      " 24  Post_Successful_Job_Search_Certainty                  202 non-null    object         \n",
      " 25  Post_SurveyDuration                                   202 non-null    timedelta64[ns]\n",
      "dtypes: datetime64[ns](4), int64(7), object(13), timedelta64[ns](2)\n",
      "memory usage: 42.6+ KB\n"
     ]
    }
   ],
   "source": [
    "result.info()"
   ]
  },
  {
   "cell_type": "code",
   "execution_count": 64,
   "metadata": {},
   "outputs": [
    {
     "data": {
      "text/plain": [
       "ID                                                      0\n",
       "Pre_Start_Date                                          0\n",
       "Pre_End_Date                                            0\n",
       "Duration_(in_seconds)                                   0\n",
       "Pre_Job_Ability_Certainty                               0\n",
       "Pre_Job_Getting_Confidence                              0\n",
       "Pre_Successful_Job_Search_Certainty                     0\n",
       "Pre_Extracirrcular_Organizations                        0\n",
       "Pre_Leadership_Positions                                0\n",
       "Pre_Internships_CoOps                                   0\n",
       "Pre_SurveyDuration                                      0\n",
       "Site                                                    0\n",
       "Post_Start_Date                                         0\n",
       "Post_End_Date                                           0\n",
       "Post_Duration_(in_seconds)                              0\n",
       "Likelihood_of_Recommendation                            0\n",
       "Valuable_Professional_PersonalDevelopment_Experience    0\n",
       "Braven_More_Than_a_Course_Perception                    0\n",
       "Mentor_Goals_Dreams_Encouragement                       0\n",
       "Braven_Coursework_Time_Completion                       0\n",
       "Braven_Coursework_Complexity                            0\n",
       "College_Major                                           0\n",
       "Post_Job_Ability_Certainty                              0\n",
       "Post_Job_Getting_Confidence                             0\n",
       "Post_Successful_Job_Search_Certainty                    0\n",
       "Post_SurveyDuration                                     0\n",
       "dtype: int64"
      ]
     },
     "execution_count": 64,
     "metadata": {},
     "output_type": "execute_result"
    }
   ],
   "source": [
    "result.isnull().sum()"
   ]
  },
  {
   "cell_type": "markdown",
   "metadata": {},
   "source": [
    "## Creating Likert Column"
   ]
  },
  {
   "cell_type": "code",
   "execution_count": 65,
   "metadata": {},
   "outputs": [],
   "source": [
    "# IF/ELSE FOR PRE SURVEY STATEMENTS\n",
    "def func(row):\n",
    "    if row['Pre_Job_Ability_Certainty'] == 'Strongly agree':\n",
    "        return '7'\n",
    "    elif row['Pre_Job_Ability_Certainty'] =='Agree':\n",
    "        return '6' \n",
    "    elif row['Pre_Job_Ability_Certainty'] =='Moderately Agree':\n",
    "        return '5'\n",
    "    elif row['Pre_Job_Ability_Certainty'] =='Neutral':\n",
    "        return '4'\n",
    "    elif row['Pre_Job_Ability_Certainty'] =='Moderately Disagree':\n",
    "        return '3'\n",
    "    elif row['Pre_Job_Ability_Certainty'] =='Disagree':\n",
    "        return '2'\n",
    "    elif row['Pre_Job_Ability_Certainty'] =='Strongly Disagree':\n",
    "        return '1'\n",
    "    else:\n",
    "        return 'other'\n",
    "\n",
    "result['NewPREJobAbility'] = result.apply(func, axis=1)"
   ]
  },
  {
   "cell_type": "code",
   "execution_count": 66,
   "metadata": {},
   "outputs": [
    {
     "data": {
      "text/plain": [
       "6    54\n",
       "5    52\n",
       "4    43\n",
       "7    20\n",
       "3    17\n",
       "2    12\n",
       "1     4\n",
       "Name: NewPREJobAbility, dtype: int64"
      ]
     },
     "execution_count": 66,
     "metadata": {},
     "output_type": "execute_result"
    }
   ],
   "source": [
    "result['NewPREJobAbility'].value_counts()"
   ]
  },
  {
   "cell_type": "code",
   "execution_count": 67,
   "metadata": {},
   "outputs": [],
   "source": [
    "def func(row):\n",
    "    if row['Pre_Job_Getting_Confidence'] == 'Strongly agree':\n",
    "        return '7'\n",
    "    elif row['Pre_Job_Getting_Confidence'] =='Agree':\n",
    "        return '6' \n",
    "    elif row['Pre_Job_Getting_Confidence'] =='Moderately Agree':\n",
    "        return '5'\n",
    "    elif row['Pre_Job_Getting_Confidence'] =='Neutral':\n",
    "        return '4'\n",
    "    elif row['Pre_Job_Getting_Confidence'] =='Moderately Disagree':\n",
    "        return '3'\n",
    "    elif row['Pre_Job_Getting_Confidence'] =='Disagree':\n",
    "        return '2'\n",
    "    elif row['Pre_Job_Getting_Confidence'] =='Strongly Disagree':\n",
    "        return '1'\n",
    "    else:\n",
    "        return 'other'\n",
    "\n",
    "result['NewPREJobGetting'] = result.apply(func, axis=1)"
   ]
  },
  {
   "cell_type": "code",
   "execution_count": 68,
   "metadata": {},
   "outputs": [
    {
     "data": {
      "text/plain": [
       "6    57\n",
       "5    51\n",
       "7    41\n",
       "4    34\n",
       "3    12\n",
       "1     4\n",
       "2     3\n",
       "Name: NewPREJobGetting, dtype: int64"
      ]
     },
     "execution_count": 68,
     "metadata": {},
     "output_type": "execute_result"
    }
   ],
   "source": [
    "result['NewPREJobGetting'].value_counts()"
   ]
  },
  {
   "cell_type": "code",
   "execution_count": 69,
   "metadata": {},
   "outputs": [],
   "source": [
    "def func(row):\n",
    "    if row['Pre_Successful_Job_Search_Certainty'] == 'Strongly agree':\n",
    "        return '7'\n",
    "    elif row['Pre_Successful_Job_Search_Certainty'] =='Agree':\n",
    "        return '6' \n",
    "    elif row['Pre_Successful_Job_Search_Certainty'] =='Moderately Agree':\n",
    "        return '5'\n",
    "    elif row['Pre_Successful_Job_Search_Certainty'] =='Neutral':\n",
    "        return '4'\n",
    "    elif row['Pre_Successful_Job_Search_Certainty'] =='Moderately Disagree':\n",
    "        return '3'\n",
    "    elif row['Pre_Successful_Job_Search_Certainty'] =='Disagree':\n",
    "        return '2'\n",
    "    elif row['Pre_Successful_Job_Search_Certainty'] =='Strongly Disagree':\n",
    "        return '1'\n",
    "    else:\n",
    "        return 'other'\n",
    "\n",
    "result['NewPREJobSuccess'] = result.apply(func, axis=1)"
   ]
  },
  {
   "cell_type": "code",
   "execution_count": 70,
   "metadata": {},
   "outputs": [
    {
     "data": {
      "text/plain": [
       "6    52\n",
       "4    52\n",
       "5    48\n",
       "7    29\n",
       "3    11\n",
       "1     5\n",
       "2     5\n",
       "Name: NewPREJobSuccess, dtype: int64"
      ]
     },
     "execution_count": 70,
     "metadata": {},
     "output_type": "execute_result"
    }
   ],
   "source": [
    "result['NewPREJobSuccess'].value_counts()"
   ]
  },
  {
   "cell_type": "markdown",
   "metadata": {},
   "source": [
    "## Creating Likert Column"
   ]
  },
  {
   "cell_type": "code",
   "execution_count": 71,
   "metadata": {},
   "outputs": [],
   "source": [
    "# IF/ELSE FOR POST SURVEY STATEMENTS\n",
    "\n",
    "def func(row):\n",
    "    if row['Post_Job_Ability_Certainty'] == 'Strongly agree':\n",
    "        return '7'\n",
    "    elif row['Post_Job_Ability_Certainty'] =='Agree':\n",
    "        return '6' \n",
    "    elif row['Post_Job_Ability_Certainty'] =='Moderately Agree':\n",
    "        return '5'\n",
    "    elif row['Post_Job_Ability_Certainty'] =='Neutral':\n",
    "        return '4'\n",
    "    elif row['Post_Job_Ability_Certainty'] =='Moderately Disagree':\n",
    "        return '3'\n",
    "    elif row['Post_Job_Ability_Certainty'] =='Disagree':\n",
    "        return '2'\n",
    "    elif row['Post_Job_Ability_Certainty'] =='Strongly Disagree':\n",
    "        return '1'\n",
    "    else:\n",
    "        return 'other'\n",
    "\n",
    "result['NewPOSTJobAbility'] = result.apply(func, axis=1)"
   ]
  },
  {
   "cell_type": "code",
   "execution_count": 72,
   "metadata": {},
   "outputs": [
    {
     "data": {
      "text/plain": [
       "6    66\n",
       "7    56\n",
       "5    47\n",
       "4    20\n",
       "3     9\n",
       "1     3\n",
       "2     1\n",
       "Name: NewPOSTJobAbility, dtype: int64"
      ]
     },
     "execution_count": 72,
     "metadata": {},
     "output_type": "execute_result"
    }
   ],
   "source": [
    "result['NewPOSTJobAbility'].value_counts()"
   ]
  },
  {
   "cell_type": "code",
   "execution_count": 73,
   "metadata": {},
   "outputs": [],
   "source": [
    "def func(row):\n",
    "    if row['Post_Job_Getting_Confidence'] == 'Strongly agree':\n",
    "        return '7'\n",
    "    elif row['Post_Job_Getting_Confidence'] =='Agree':\n",
    "        return '6' \n",
    "    elif row['Post_Job_Getting_Confidence'] =='Moderately Agree':\n",
    "        return '5'\n",
    "    elif row['Post_Job_Getting_Confidence'] =='Neutral':\n",
    "        return '4'\n",
    "    elif row['Post_Job_Getting_Confidence'] =='Moderately Disagree':\n",
    "        return '3'\n",
    "    elif row['Post_Job_Getting_Confidence'] =='Disagree':\n",
    "        return '2'\n",
    "    elif row['Post_Job_Getting_Confidence'] =='Strongly Disagree':\n",
    "        return '1'\n",
    "    else:\n",
    "        return 'other'\n",
    "\n",
    "result['NewPOSTJobGetting'] = result.apply(func, axis=1)"
   ]
  },
  {
   "cell_type": "code",
   "execution_count": 74,
   "metadata": {},
   "outputs": [
    {
     "data": {
      "text/plain": [
       "7    83\n",
       "6    61\n",
       "5    34\n",
       "4    16\n",
       "3     6\n",
       "1     1\n",
       "2     1\n",
       "Name: NewPOSTJobGetting, dtype: int64"
      ]
     },
     "execution_count": 74,
     "metadata": {},
     "output_type": "execute_result"
    }
   ],
   "source": [
    "result['NewPOSTJobGetting'].value_counts()"
   ]
  },
  {
   "cell_type": "code",
   "execution_count": 75,
   "metadata": {},
   "outputs": [],
   "source": [
    "def func(row):\n",
    "    if row['Post_Successful_Job_Search_Certainty'] == 'Strongly agree':\n",
    "        return '7'\n",
    "    elif row['Post_Successful_Job_Search_Certainty'] =='Agree':\n",
    "        return '6' \n",
    "    elif row['Post_Successful_Job_Search_Certainty'] =='Moderately Agree':\n",
    "        return '5'\n",
    "    elif row['Post_Successful_Job_Search_Certainty'] =='Neutral':\n",
    "        return '4'\n",
    "    elif row['Post_Successful_Job_Search_Certainty'] =='Moderately Disagree':\n",
    "        return '3'\n",
    "    elif row['Post_Successful_Job_Search_Certainty'] =='Disagree':\n",
    "        return '2'\n",
    "    elif row['Post_Successful_Job_Search_Certainty'] =='Strongly Disagree':\n",
    "        return '1'\n",
    "    else:\n",
    "        return 'other'\n",
    "\n",
    "result['NewPOSTJobSuccess'] = result.apply(func, axis=1)"
   ]
  },
  {
   "cell_type": "code",
   "execution_count": 76,
   "metadata": {},
   "outputs": [
    {
     "data": {
      "text/plain": [
       "7    77\n",
       "6    65\n",
       "5    28\n",
       "4    24\n",
       "3     6\n",
       "1     1\n",
       "2     1\n",
       "Name: NewPOSTJobSuccess, dtype: int64"
      ]
     },
     "execution_count": 76,
     "metadata": {},
     "output_type": "execute_result"
    }
   ],
   "source": [
    "result['NewPOSTJobSuccess'].value_counts()"
   ]
  },
  {
   "cell_type": "markdown",
   "metadata": {},
   "source": [
    "## Compare Pre- and Post-Accelerator Survey Columns to Determine Any Changes After Braven"
   ]
  },
  {
   "cell_type": "code",
   "execution_count": 77,
   "metadata": {},
   "outputs": [],
   "source": [
    "def func(row):\n",
    "    if row['NewPREJobAbility'] > row['NewPOSTJobAbility']:\n",
    "        return 'Decrease'\n",
    "    elif row['NewPREJobAbility'] < row['NewPOSTJobAbility']:\n",
    "        return 'Increase' \n",
    "    else:\n",
    "        return 'No Change'\n",
    "\n",
    "result['ChangeJobAbility'] = result.apply(func, axis=1)"
   ]
  },
  {
   "cell_type": "code",
   "execution_count": 78,
   "metadata": {},
   "outputs": [],
   "source": [
    "def func(row):\n",
    "    if row['NewPREJobGetting'] > row['NewPOSTJobGetting']:\n",
    "        return 'Decrease'\n",
    "    elif row['NewPREJobGetting'] < row['NewPOSTJobGetting']:\n",
    "        return 'Increase' \n",
    "    else:\n",
    "        return 'No Change'\n",
    "\n",
    "result['ChangeJobGetting'] = result.apply(func, axis=1)"
   ]
  },
  {
   "cell_type": "code",
   "execution_count": 79,
   "metadata": {},
   "outputs": [],
   "source": [
    "def func(row):\n",
    "    if row['NewPREJobSuccess'] > row['NewPOSTJobSuccess']:\n",
    "        return 'Decrease'\n",
    "    elif row['NewPREJobSuccess'] < row['NewPOSTJobSuccess']:\n",
    "        return 'Increase' \n",
    "    else:\n",
    "        return 'No Change'\n",
    "\n",
    "result['ChangeJobSuccess'] = result.apply(func, axis=1)"
   ]
  },
  {
   "cell_type": "code",
   "execution_count": 80,
   "metadata": {},
   "outputs": [
    {
     "data": {
      "text/plain": [
       "Increase     117\n",
       "No Change     56\n",
       "Decrease      29\n",
       "Name: ChangeJobSuccess, dtype: int64"
      ]
     },
     "execution_count": 80,
     "metadata": {},
     "output_type": "execute_result"
    }
   ],
   "source": [
    "result['ChangeJobSuccess'].value_counts()"
   ]
  },
  {
   "cell_type": "code",
   "execution_count": 81,
   "metadata": {},
   "outputs": [
    {
     "data": {
      "text/plain": [
       "Increase     116\n",
       "No Change     53\n",
       "Decrease      33\n",
       "Name: ChangeJobAbility, dtype: int64"
      ]
     },
     "execution_count": 81,
     "metadata": {},
     "output_type": "execute_result"
    }
   ],
   "source": [
    "result['ChangeJobAbility'].value_counts()"
   ]
  },
  {
   "cell_type": "code",
   "execution_count": 82,
   "metadata": {},
   "outputs": [
    {
     "data": {
      "text/plain": [
       "Increase     103\n",
       "No Change     65\n",
       "Decrease      34\n",
       "Name: ChangeJobGetting, dtype: int64"
      ]
     },
     "execution_count": 82,
     "metadata": {},
     "output_type": "execute_result"
    }
   ],
   "source": [
    "result['ChangeJobGetting'].value_counts()"
   ]
  },
  {
   "cell_type": "code",
   "execution_count": 83,
   "metadata": {},
   "outputs": [
    {
     "data": {
      "text/plain": [
       "Agree                  54\n",
       "Moderately Agree       52\n",
       "Neutral                43\n",
       "Strongly agree         20\n",
       "Moderately Disagree    17\n",
       "Disagree               12\n",
       "Strongly Disagree       4\n",
       "Name: Pre_Job_Ability_Certainty, dtype: int64"
      ]
     },
     "execution_count": 83,
     "metadata": {},
     "output_type": "execute_result"
    }
   ],
   "source": [
    "# Job Ability - Pre Survey\n",
    "result['Pre_Job_Ability_Certainty'].value_counts()"
   ]
  },
  {
   "cell_type": "code",
   "execution_count": 84,
   "metadata": {},
   "outputs": [
    {
     "data": {
      "text/plain": [
       "Agree                  66\n",
       "Strongly agree         56\n",
       "Moderately Agree       47\n",
       "Neutral                20\n",
       "Moderately Disagree     9\n",
       "Strongly Disagree       3\n",
       "Disagree                1\n",
       "Name: Post_Job_Ability_Certainty, dtype: int64"
      ]
     },
     "execution_count": 84,
     "metadata": {},
     "output_type": "execute_result"
    }
   ],
   "source": [
    "# Job Ability - Post Survey\n",
    "result['Post_Job_Ability_Certainty'].value_counts()"
   ]
  },
  {
   "cell_type": "code",
   "execution_count": 85,
   "metadata": {},
   "outputs": [
    {
     "data": {
      "text/plain": [
       "Agree                  57\n",
       "Moderately Agree       51\n",
       "Strongly agree         41\n",
       "Neutral                34\n",
       "Moderately Disagree    12\n",
       "Strongly Disagree       4\n",
       "Disagree                3\n",
       "Name: Pre_Job_Getting_Confidence, dtype: int64"
      ]
     },
     "execution_count": 85,
     "metadata": {},
     "output_type": "execute_result"
    }
   ],
   "source": [
    "# Getting a Job - Pre Survey\n",
    "result['Pre_Job_Getting_Confidence'].value_counts()"
   ]
  },
  {
   "cell_type": "code",
   "execution_count": 86,
   "metadata": {},
   "outputs": [
    {
     "data": {
      "text/plain": [
       "Strongly agree         83\n",
       "Agree                  61\n",
       "Moderately Agree       34\n",
       "Neutral                16\n",
       "Moderately Disagree     6\n",
       "Disagree                1\n",
       "Strongly Disagree       1\n",
       "Name: Post_Job_Getting_Confidence, dtype: int64"
      ]
     },
     "execution_count": 86,
     "metadata": {},
     "output_type": "execute_result"
    }
   ],
   "source": [
    "# Getting a Job - Post Survey\n",
    "result['Post_Job_Getting_Confidence'].value_counts()"
   ]
  },
  {
   "cell_type": "code",
   "execution_count": 87,
   "metadata": {},
   "outputs": [
    {
     "data": {
      "text/plain": [
       "Neutral                52\n",
       "Agree                  52\n",
       "Moderately Agree       48\n",
       "Strongly agree         29\n",
       "Moderately Disagree    11\n",
       "Disagree                5\n",
       "Strongly Disagree       5\n",
       "Name: Pre_Successful_Job_Search_Certainty, dtype: int64"
      ]
     },
     "execution_count": 87,
     "metadata": {},
     "output_type": "execute_result"
    }
   ],
   "source": [
    "# Job Success - Pre Survey\n",
    "result['Pre_Successful_Job_Search_Certainty'].value_counts()"
   ]
  },
  {
   "cell_type": "code",
   "execution_count": 88,
   "metadata": {},
   "outputs": [
    {
     "data": {
      "text/plain": [
       "Strongly agree         77\n",
       "Agree                  65\n",
       "Moderately Agree       28\n",
       "Neutral                24\n",
       "Moderately Disagree     6\n",
       "Disagree                1\n",
       "Strongly Disagree       1\n",
       "Name: Post_Successful_Job_Search_Certainty, dtype: int64"
      ]
     },
     "execution_count": 88,
     "metadata": {},
     "output_type": "execute_result"
    }
   ],
   "source": [
    "# Job Success - Post Survey\n",
    "result['Post_Successful_Job_Search_Certainty'].value_counts()"
   ]
  },
  {
   "cell_type": "markdown",
   "metadata": {},
   "source": [
    "## Calculating NPS Score"
   ]
  },
  {
   "cell_type": "code",
   "execution_count": 89,
   "metadata": {},
   "outputs": [],
   "source": [
    "def func(row):\n",
    "    if row['Likelihood_of_Recommendation'] >= 9:\n",
    "        return 'Promoters'\n",
    "    elif row['Likelihood_of_Recommendation'] == 8:\n",
    "        return 'Passives' \n",
    "    elif row['Likelihood_of_Recommendation'] == 7:\n",
    "        return 'Passives' \n",
    "    elif row['Likelihood_of_Recommendation'] <= 6:\n",
    "        return 'Detractors' \n",
    "    else:\n",
    "        return 'Error'\n",
    "\n",
    "result['NPS_Count'] = result.apply(func, axis=1)"
   ]
  },
  {
   "cell_type": "code",
   "execution_count": 90,
   "metadata": {},
   "outputs": [
    {
     "data": {
      "text/plain": [
       "Promoters     122\n",
       "Passives       51\n",
       "Detractors     29\n",
       "Name: NPS_Count, dtype: int64"
      ]
     },
     "execution_count": 90,
     "metadata": {},
     "output_type": "execute_result"
    }
   ],
   "source": [
    "result['NPS_Count'].value_counts()"
   ]
  },
  {
   "cell_type": "code",
   "execution_count": 91,
   "metadata": {},
   "outputs": [],
   "source": [
    "#NPS Score Calculation - SUBTRACT PERCENTAGE OF DETRACTORS FROM PROMOTERS \n",
    "\n",
    "#Promoters = 60.4%\n",
    "#Passives = 24.2%\n",
    "#Detractors = 14.4%\n",
    "\n",
    "# Promoters - Detractors = 46"
   ]
  },
  {
   "cell_type": "code",
   "execution_count": 92,
   "metadata": {
    "scrolled": true
   },
   "outputs": [],
   "source": [
    "#Unique Values for Each Column\n",
    "\n",
    "# for col, values in result.iteritems():\n",
    "#     num_uniques = values.nunique()\n",
    "#     print ('{name}: {num_unique}'.format(name=col, num_unique=num_uniques))\n",
    "#     print (values.unique())\n",
    "#     print ('\\n')"
   ]
  },
  {
   "cell_type": "code",
   "execution_count": 93,
   "metadata": {},
   "outputs": [
    {
     "data": {
      "text/plain": [
       "SJSU    140\n",
       "RU-N     62\n",
       "Name: Site, dtype: int64"
      ]
     },
     "execution_count": 93,
     "metadata": {},
     "output_type": "execute_result"
    }
   ],
   "source": [
    "result['Site'].value_counts()"
   ]
  },
  {
   "cell_type": "markdown",
   "metadata": {},
   "source": [
    "## Coursework Time & Complexity Frequency/Distribution"
   ]
  },
  {
   "cell_type": "code",
   "execution_count": 94,
   "metadata": {},
   "outputs": [
    {
     "data": {
      "text/html": [
       "<div>\n",
       "<style scoped>\n",
       "    .dataframe tbody tr th:only-of-type {\n",
       "        vertical-align: middle;\n",
       "    }\n",
       "\n",
       "    .dataframe tbody tr th {\n",
       "        vertical-align: top;\n",
       "    }\n",
       "\n",
       "    .dataframe thead th {\n",
       "        text-align: right;\n",
       "    }\n",
       "</style>\n",
       "<table border=\"1\" class=\"dataframe\">\n",
       "  <thead>\n",
       "    <tr style=\"text-align: right;\">\n",
       "      <th></th>\n",
       "      <th>Scale</th>\n",
       "      <th>Frequency</th>\n",
       "      <th>Percentage of Occurrence</th>\n",
       "    </tr>\n",
       "  </thead>\n",
       "  <tbody>\n",
       "    <tr>\n",
       "      <th>0</th>\n",
       "      <td>Strongly agree</td>\n",
       "      <td>78</td>\n",
       "      <td>38.6</td>\n",
       "    </tr>\n",
       "    <tr>\n",
       "      <th>1</th>\n",
       "      <td>Agree</td>\n",
       "      <td>55</td>\n",
       "      <td>27.2</td>\n",
       "    </tr>\n",
       "    <tr>\n",
       "      <th>2</th>\n",
       "      <td>Moderately agree</td>\n",
       "      <td>37</td>\n",
       "      <td>18.3</td>\n",
       "    </tr>\n",
       "    <tr>\n",
       "      <th>3</th>\n",
       "      <td>Neutral</td>\n",
       "      <td>13</td>\n",
       "      <td>6.4</td>\n",
       "    </tr>\n",
       "    <tr>\n",
       "      <th>4</th>\n",
       "      <td>Disagree</td>\n",
       "      <td>9</td>\n",
       "      <td>4.5</td>\n",
       "    </tr>\n",
       "    <tr>\n",
       "      <th>5</th>\n",
       "      <td>Strongly Disagree</td>\n",
       "      <td>6</td>\n",
       "      <td>3.0</td>\n",
       "    </tr>\n",
       "    <tr>\n",
       "      <th>6</th>\n",
       "      <td>Moderately disagree</td>\n",
       "      <td>4</td>\n",
       "      <td>2.0</td>\n",
       "    </tr>\n",
       "  </tbody>\n",
       "</table>\n",
       "</div>"
      ],
      "text/plain": [
       "                 Scale  Frequency  Percentage of Occurrence\n",
       "0       Strongly agree         78                      38.6\n",
       "1                Agree         55                      27.2\n",
       "2     Moderately agree         37                      18.3\n",
       "3              Neutral         13                       6.4\n",
       "4             Disagree          9                       4.5\n",
       "5    Strongly Disagree          6                       3.0\n",
       "6  Moderately disagree          4                       2.0"
      ]
     },
     "execution_count": 94,
     "metadata": {},
     "output_type": "execute_result"
    }
   ],
   "source": [
    "Frequency22 = result.Valuable_Professional_PersonalDevelopment_Experience.value_counts().rename_axis('Scale').reset_index(name='Frequency')\n",
    "Frequency22['Percentage of Occurrence'] = (Frequency22['Frequency'] / \n",
    "                  Frequency22['Frequency'].sum()) * 100\n",
    "Frequency22.round(1)"
   ]
  },
  {
   "cell_type": "code",
   "execution_count": 95,
   "metadata": {},
   "outputs": [
    {
     "data": {
      "text/html": [
       "<div>\n",
       "<style scoped>\n",
       "    .dataframe tbody tr th:only-of-type {\n",
       "        vertical-align: middle;\n",
       "    }\n",
       "\n",
       "    .dataframe tbody tr th {\n",
       "        vertical-align: top;\n",
       "    }\n",
       "\n",
       "    .dataframe thead th {\n",
       "        text-align: right;\n",
       "    }\n",
       "</style>\n",
       "<table border=\"1\" class=\"dataframe\">\n",
       "  <thead>\n",
       "    <tr style=\"text-align: right;\">\n",
       "      <th></th>\n",
       "      <th>Scale</th>\n",
       "      <th>Frequency</th>\n",
       "      <th>Percentage of Occurrence</th>\n",
       "    </tr>\n",
       "  </thead>\n",
       "  <tbody>\n",
       "    <tr>\n",
       "      <th>0</th>\n",
       "      <td>Strongly agree</td>\n",
       "      <td>71</td>\n",
       "      <td>35.1</td>\n",
       "    </tr>\n",
       "    <tr>\n",
       "      <th>1</th>\n",
       "      <td>Agree</td>\n",
       "      <td>51</td>\n",
       "      <td>25.2</td>\n",
       "    </tr>\n",
       "    <tr>\n",
       "      <th>2</th>\n",
       "      <td>Moderately agree</td>\n",
       "      <td>37</td>\n",
       "      <td>18.3</td>\n",
       "    </tr>\n",
       "    <tr>\n",
       "      <th>3</th>\n",
       "      <td>Neither agree nor disagree</td>\n",
       "      <td>18</td>\n",
       "      <td>8.9</td>\n",
       "    </tr>\n",
       "    <tr>\n",
       "      <th>4</th>\n",
       "      <td>Moderately disagree</td>\n",
       "      <td>11</td>\n",
       "      <td>5.4</td>\n",
       "    </tr>\n",
       "    <tr>\n",
       "      <th>5</th>\n",
       "      <td>Disagree</td>\n",
       "      <td>8</td>\n",
       "      <td>4.0</td>\n",
       "    </tr>\n",
       "    <tr>\n",
       "      <th>6</th>\n",
       "      <td>Strongly Disagree</td>\n",
       "      <td>6</td>\n",
       "      <td>3.0</td>\n",
       "    </tr>\n",
       "  </tbody>\n",
       "</table>\n",
       "</div>"
      ],
      "text/plain": [
       "                        Scale  Frequency  Percentage of Occurrence\n",
       "0              Strongly agree         71                      35.1\n",
       "1                       Agree         51                      25.2\n",
       "2            Moderately agree         37                      18.3\n",
       "3  Neither agree nor disagree         18                       8.9\n",
       "4         Moderately disagree         11                       5.4\n",
       "5                    Disagree          8                       4.0\n",
       "6           Strongly Disagree          6                       3.0"
      ]
     },
     "execution_count": 95,
     "metadata": {},
     "output_type": "execute_result"
    }
   ],
   "source": [
    "Frequency21 = result.Braven_More_Than_a_Course_Perception.value_counts().rename_axis('Scale').reset_index(name='Frequency')\n",
    "Frequency21['Percentage of Occurrence'] = (Frequency21['Frequency'] / \n",
    "                  Frequency21['Frequency'].sum()) * 100\n",
    "Frequency21.round(1)"
   ]
  },
  {
   "cell_type": "code",
   "execution_count": 96,
   "metadata": {},
   "outputs": [
    {
     "data": {
      "text/html": [
       "<div>\n",
       "<style scoped>\n",
       "    .dataframe tbody tr th:only-of-type {\n",
       "        vertical-align: middle;\n",
       "    }\n",
       "\n",
       "    .dataframe tbody tr th {\n",
       "        vertical-align: top;\n",
       "    }\n",
       "\n",
       "    .dataframe thead th {\n",
       "        text-align: right;\n",
       "    }\n",
       "</style>\n",
       "<table border=\"1\" class=\"dataframe\">\n",
       "  <thead>\n",
       "    <tr style=\"text-align: right;\">\n",
       "      <th></th>\n",
       "      <th>Scale</th>\n",
       "      <th>Frequency</th>\n",
       "      <th>Percentage of Occurrence</th>\n",
       "    </tr>\n",
       "  </thead>\n",
       "  <tbody>\n",
       "    <tr>\n",
       "      <th>0</th>\n",
       "      <td>Strongly agree</td>\n",
       "      <td>81</td>\n",
       "      <td>40.1</td>\n",
       "    </tr>\n",
       "    <tr>\n",
       "      <th>1</th>\n",
       "      <td>Agree</td>\n",
       "      <td>57</td>\n",
       "      <td>28.2</td>\n",
       "    </tr>\n",
       "    <tr>\n",
       "      <th>2</th>\n",
       "      <td>Moderately agree</td>\n",
       "      <td>28</td>\n",
       "      <td>13.9</td>\n",
       "    </tr>\n",
       "    <tr>\n",
       "      <th>3</th>\n",
       "      <td>Neither agree nor disagree</td>\n",
       "      <td>20</td>\n",
       "      <td>9.9</td>\n",
       "    </tr>\n",
       "    <tr>\n",
       "      <th>4</th>\n",
       "      <td>Disagree</td>\n",
       "      <td>8</td>\n",
       "      <td>4.0</td>\n",
       "    </tr>\n",
       "    <tr>\n",
       "      <th>5</th>\n",
       "      <td>Moderately disagree</td>\n",
       "      <td>4</td>\n",
       "      <td>2.0</td>\n",
       "    </tr>\n",
       "    <tr>\n",
       "      <th>6</th>\n",
       "      <td>Strongly Disagree</td>\n",
       "      <td>4</td>\n",
       "      <td>2.0</td>\n",
       "    </tr>\n",
       "  </tbody>\n",
       "</table>\n",
       "</div>"
      ],
      "text/plain": [
       "                        Scale  Frequency  Percentage of Occurrence\n",
       "0              Strongly agree         81                      40.1\n",
       "1                       Agree         57                      28.2\n",
       "2            Moderately agree         28                      13.9\n",
       "3  Neither agree nor disagree         20                       9.9\n",
       "4                    Disagree          8                       4.0\n",
       "5         Moderately disagree          4                       2.0\n",
       "6           Strongly Disagree          4                       2.0"
      ]
     },
     "execution_count": 96,
     "metadata": {},
     "output_type": "execute_result"
    }
   ],
   "source": [
    "Frequency20 = result.Mentor_Goals_Dreams_Encouragement.value_counts().rename_axis('Scale').reset_index(name='Frequency')\n",
    "Frequency20['Percentage of Occurrence'] = (Frequency20['Frequency'] / \n",
    "                  Frequency20['Frequency'].sum()) * 100\n",
    "Frequency20.round(1)"
   ]
  },
  {
   "cell_type": "code",
   "execution_count": 97,
   "metadata": {},
   "outputs": [
    {
     "data": {
      "text/html": [
       "<div>\n",
       "<style scoped>\n",
       "    .dataframe tbody tr th:only-of-type {\n",
       "        vertical-align: middle;\n",
       "    }\n",
       "\n",
       "    .dataframe tbody tr th {\n",
       "        vertical-align: top;\n",
       "    }\n",
       "\n",
       "    .dataframe thead th {\n",
       "        text-align: right;\n",
       "    }\n",
       "</style>\n",
       "<table border=\"1\" class=\"dataframe\">\n",
       "  <thead>\n",
       "    <tr style=\"text-align: right;\">\n",
       "      <th></th>\n",
       "      <th>Scale</th>\n",
       "      <th>Frequency</th>\n",
       "      <th>Percentage of Occurrence</th>\n",
       "    </tr>\n",
       "  </thead>\n",
       "  <tbody>\n",
       "    <tr>\n",
       "      <th>0</th>\n",
       "      <td>10</td>\n",
       "      <td>94</td>\n",
       "      <td>46.5</td>\n",
       "    </tr>\n",
       "    <tr>\n",
       "      <th>1</th>\n",
       "      <td>8</td>\n",
       "      <td>30</td>\n",
       "      <td>14.9</td>\n",
       "    </tr>\n",
       "    <tr>\n",
       "      <th>2</th>\n",
       "      <td>9</td>\n",
       "      <td>28</td>\n",
       "      <td>13.9</td>\n",
       "    </tr>\n",
       "    <tr>\n",
       "      <th>3</th>\n",
       "      <td>7</td>\n",
       "      <td>21</td>\n",
       "      <td>10.4</td>\n",
       "    </tr>\n",
       "    <tr>\n",
       "      <th>4</th>\n",
       "      <td>5</td>\n",
       "      <td>8</td>\n",
       "      <td>4.0</td>\n",
       "    </tr>\n",
       "    <tr>\n",
       "      <th>5</th>\n",
       "      <td>6</td>\n",
       "      <td>6</td>\n",
       "      <td>3.0</td>\n",
       "    </tr>\n",
       "    <tr>\n",
       "      <th>6</th>\n",
       "      <td>4</td>\n",
       "      <td>4</td>\n",
       "      <td>2.0</td>\n",
       "    </tr>\n",
       "    <tr>\n",
       "      <th>7</th>\n",
       "      <td>2</td>\n",
       "      <td>4</td>\n",
       "      <td>2.0</td>\n",
       "    </tr>\n",
       "    <tr>\n",
       "      <th>8</th>\n",
       "      <td>0</td>\n",
       "      <td>4</td>\n",
       "      <td>2.0</td>\n",
       "    </tr>\n",
       "    <tr>\n",
       "      <th>9</th>\n",
       "      <td>1</td>\n",
       "      <td>2</td>\n",
       "      <td>1.0</td>\n",
       "    </tr>\n",
       "    <tr>\n",
       "      <th>10</th>\n",
       "      <td>3</td>\n",
       "      <td>1</td>\n",
       "      <td>0.5</td>\n",
       "    </tr>\n",
       "  </tbody>\n",
       "</table>\n",
       "</div>"
      ],
      "text/plain": [
       "    Scale  Frequency  Percentage of Occurrence\n",
       "0      10         94                      46.5\n",
       "1       8         30                      14.9\n",
       "2       9         28                      13.9\n",
       "3       7         21                      10.4\n",
       "4       5          8                       4.0\n",
       "5       6          6                       3.0\n",
       "6       4          4                       2.0\n",
       "7       2          4                       2.0\n",
       "8       0          4                       2.0\n",
       "9       1          2                       1.0\n",
       "10      3          1                       0.5"
      ]
     },
     "execution_count": 97,
     "metadata": {},
     "output_type": "execute_result"
    }
   ],
   "source": [
    "Frequency19 = result.Likelihood_of_Recommendation.value_counts().rename_axis('Scale').reset_index(name='Frequency')\n",
    "Frequency19['Percentage of Occurrence'] = (Frequency19['Frequency'] / \n",
    "                  Frequency19['Frequency'].sum()) * 100\n",
    "Frequency19.round(1)"
   ]
  },
  {
   "cell_type": "code",
   "execution_count": 98,
   "metadata": {},
   "outputs": [
    {
     "data": {
      "text/html": [
       "<div>\n",
       "<style scoped>\n",
       "    .dataframe tbody tr th:only-of-type {\n",
       "        vertical-align: middle;\n",
       "    }\n",
       "\n",
       "    .dataframe tbody tr th {\n",
       "        vertical-align: top;\n",
       "    }\n",
       "\n",
       "    .dataframe thead th {\n",
       "        text-align: right;\n",
       "    }\n",
       "</style>\n",
       "<table border=\"1\" class=\"dataframe\">\n",
       "  <thead>\n",
       "    <tr style=\"text-align: right;\">\n",
       "      <th></th>\n",
       "      <th>Coursework Challenge/Complexity</th>\n",
       "      <th>Frequency</th>\n",
       "      <th>Percentage of Occurrence</th>\n",
       "    </tr>\n",
       "  </thead>\n",
       "  <tbody>\n",
       "    <tr>\n",
       "      <th>0</th>\n",
       "      <td>About the same as other courses</td>\n",
       "      <td>63</td>\n",
       "      <td>31.2</td>\n",
       "    </tr>\n",
       "    <tr>\n",
       "      <th>1</th>\n",
       "      <td>Somewhat more challenging than other courses</td>\n",
       "      <td>48</td>\n",
       "      <td>23.8</td>\n",
       "    </tr>\n",
       "    <tr>\n",
       "      <th>2</th>\n",
       "      <td>Somewhat less challenging than other courses</td>\n",
       "      <td>44</td>\n",
       "      <td>21.8</td>\n",
       "    </tr>\n",
       "    <tr>\n",
       "      <th>3</th>\n",
       "      <td>Far less challenging than other courses</td>\n",
       "      <td>35</td>\n",
       "      <td>17.3</td>\n",
       "    </tr>\n",
       "    <tr>\n",
       "      <th>4</th>\n",
       "      <td>Far more challenging than other courses</td>\n",
       "      <td>12</td>\n",
       "      <td>5.9</td>\n",
       "    </tr>\n",
       "  </tbody>\n",
       "</table>\n",
       "</div>"
      ],
      "text/plain": [
       "                Coursework Challenge/Complexity  Frequency  Percentage of Occurrence\n",
       "0               About the same as other courses         63                      31.2\n",
       "1  Somewhat more challenging than other courses         48                      23.8\n",
       "2  Somewhat less challenging than other courses         44                      21.8\n",
       "3       Far less challenging than other courses         35                      17.3\n",
       "4       Far more challenging than other courses         12                       5.9"
      ]
     },
     "execution_count": 98,
     "metadata": {},
     "output_type": "execute_result"
    }
   ],
   "source": [
    "Frequency18 = result.Braven_Coursework_Complexity.value_counts().rename_axis('Coursework Challenge/Complexity').reset_index(name='Frequency')\n",
    "Frequency18['Percentage of Occurrence'] = (Frequency18['Frequency'] / \n",
    "                  Frequency18['Frequency'].sum()) * 100\n",
    "Frequency18.round(1)"
   ]
  },
  {
   "cell_type": "code",
   "execution_count": 99,
   "metadata": {},
   "outputs": [
    {
     "data": {
      "text/html": [
       "<div>\n",
       "<style scoped>\n",
       "    .dataframe tbody tr th:only-of-type {\n",
       "        vertical-align: middle;\n",
       "    }\n",
       "\n",
       "    .dataframe tbody tr th {\n",
       "        vertical-align: top;\n",
       "    }\n",
       "\n",
       "    .dataframe thead th {\n",
       "        text-align: right;\n",
       "    }\n",
       "</style>\n",
       "<table border=\"1\" class=\"dataframe\">\n",
       "  <thead>\n",
       "    <tr style=\"text-align: right;\">\n",
       "      <th></th>\n",
       "      <th>Coursework Time Completion</th>\n",
       "      <th>Frequency</th>\n",
       "      <th>Percentage of Occurrence</th>\n",
       "    </tr>\n",
       "  </thead>\n",
       "  <tbody>\n",
       "    <tr>\n",
       "      <th>0</th>\n",
       "      <td>Somewhat more than other courses</td>\n",
       "      <td>61</td>\n",
       "      <td>30.2</td>\n",
       "    </tr>\n",
       "    <tr>\n",
       "      <th>1</th>\n",
       "      <td>About the same as other courses</td>\n",
       "      <td>56</td>\n",
       "      <td>27.7</td>\n",
       "    </tr>\n",
       "    <tr>\n",
       "      <th>2</th>\n",
       "      <td>Somewhat less than other courses</td>\n",
       "      <td>38</td>\n",
       "      <td>18.8</td>\n",
       "    </tr>\n",
       "    <tr>\n",
       "      <th>3</th>\n",
       "      <td>Far more than other courses</td>\n",
       "      <td>34</td>\n",
       "      <td>16.8</td>\n",
       "    </tr>\n",
       "    <tr>\n",
       "      <th>4</th>\n",
       "      <td>Far less than other courses</td>\n",
       "      <td>13</td>\n",
       "      <td>6.4</td>\n",
       "    </tr>\n",
       "  </tbody>\n",
       "</table>\n",
       "</div>"
      ],
      "text/plain": [
       "         Coursework Time Completion  Frequency  Percentage of Occurrence\n",
       "0  Somewhat more than other courses         61                      30.2\n",
       "1   About the same as other courses         56                      27.7\n",
       "2  Somewhat less than other courses         38                      18.8\n",
       "3       Far more than other courses         34                      16.8\n",
       "4       Far less than other courses         13                       6.4"
      ]
     },
     "execution_count": 99,
     "metadata": {},
     "output_type": "execute_result"
    }
   ],
   "source": [
    "Frequency17 = result.Braven_Coursework_Time_Completion.value_counts().rename_axis('Coursework Time Completion').reset_index(name='Frequency')\n",
    "Frequency17['Percentage of Occurrence'] = (Frequency17['Frequency'] / \n",
    "                  Frequency17['Frequency'].sum()) * 100\n",
    "Frequency17.round(1)"
   ]
  },
  {
   "cell_type": "code",
   "execution_count": 100,
   "metadata": {},
   "outputs": [],
   "source": [
    "result.to_csv('ResultData.csv')"
   ]
  },
  {
   "cell_type": "markdown",
   "metadata": {},
   "source": [
    "## Analyzing Detractors "
   ]
  },
  {
   "cell_type": "code",
   "execution_count": 101,
   "metadata": {
    "scrolled": true
   },
   "outputs": [],
   "source": [
    "detractors = result[result['NPS_Count']=='Detractors']"
   ]
  },
  {
   "cell_type": "code",
   "execution_count": 102,
   "metadata": {},
   "outputs": [
    {
     "data": {
      "text/plain": [
       "Increase     13\n",
       "Decrease      9\n",
       "No Change     7\n",
       "Name: ChangeJobAbility, dtype: int64"
      ]
     },
     "execution_count": 102,
     "metadata": {},
     "output_type": "execute_result"
    }
   ],
   "source": [
    "detractors.ChangeJobAbility.value_counts()"
   ]
  },
  {
   "cell_type": "code",
   "execution_count": 103,
   "metadata": {},
   "outputs": [
    {
     "data": {
      "text/plain": [
       "Decrease     10\n",
       "Increase     10\n",
       "No Change     9\n",
       "Name: ChangeJobGetting, dtype: int64"
      ]
     },
     "execution_count": 103,
     "metadata": {},
     "output_type": "execute_result"
    }
   ],
   "source": [
    "detractors.ChangeJobGetting.value_counts()"
   ]
  },
  {
   "cell_type": "code",
   "execution_count": 104,
   "metadata": {},
   "outputs": [
    {
     "data": {
      "text/plain": [
       "Increase     11\n",
       "No Change    10\n",
       "Decrease      8\n",
       "Name: ChangeJobSuccess, dtype: int64"
      ]
     },
     "execution_count": 104,
     "metadata": {},
     "output_type": "execute_result"
    }
   ],
   "source": [
    "detractors.ChangeJobSuccess.value_counts()"
   ]
  },
  {
   "cell_type": "code",
   "execution_count": 105,
   "metadata": {},
   "outputs": [
    {
     "data": {
      "text/plain": [
       "Neither agree nor disagree    7\n",
       "Agree                         7\n",
       "Moderately agree              7\n",
       "Strongly agree                4\n",
       "Strongly Disagree             2\n",
       "Disagree                      2\n",
       "Name: Mentor_Goals_Dreams_Encouragement, dtype: int64"
      ]
     },
     "execution_count": 105,
     "metadata": {},
     "output_type": "execute_result"
    }
   ],
   "source": [
    "detractors.Mentor_Goals_Dreams_Encouragement.value_counts()"
   ]
  },
  {
   "cell_type": "code",
   "execution_count": 106,
   "metadata": {},
   "outputs": [
    {
     "data": {
      "text/plain": [
       "About the same as other courses                 8\n",
       "Somewhat more challenging than other courses    8\n",
       "Somewhat less challenging than other courses    5\n",
       "Far less challenging than other courses         4\n",
       "Far more challenging than other courses         4\n",
       "Name: Braven_Coursework_Complexity, dtype: int64"
      ]
     },
     "execution_count": 106,
     "metadata": {},
     "output_type": "execute_result"
    }
   ],
   "source": [
    "detractors.Braven_Coursework_Complexity.value_counts()"
   ]
  },
  {
   "cell_type": "code",
   "execution_count": 107,
   "metadata": {},
   "outputs": [
    {
     "data": {
      "text/plain": [
       "Sociology                                 4\n",
       "Marketing                                 3\n",
       "Other [please specify]                    2\n",
       "Finance                                   2\n",
       "Economics                                 2\n",
       "Accounting                                2\n",
       "Criminal Justice                          2\n",
       "Psychology                                2\n",
       "Management Information Systems            1\n",
       "Nursing                                   1\n",
       "General Business                          1\n",
       "Business Management And Administration    1\n",
       "Computer Science                          1\n",
       "Neuroscience                              1\n",
       "Visual And Performing Arts                1\n",
       "Undeclared                                1\n",
       "Applied Mathematics                       1\n",
       "Communications                            1\n",
       "Name: College_Major, dtype: int64"
      ]
     },
     "execution_count": 107,
     "metadata": {},
     "output_type": "execute_result"
    }
   ],
   "source": [
    "detractors.College_Major.value_counts()"
   ]
  },
  {
   "cell_type": "code",
   "execution_count": 108,
   "metadata": {},
   "outputs": [
    {
     "data": {
      "text/html": [
       "<div>\n",
       "<style scoped>\n",
       "    .dataframe tbody tr th:only-of-type {\n",
       "        vertical-align: middle;\n",
       "    }\n",
       "\n",
       "    .dataframe tbody tr th {\n",
       "        vertical-align: top;\n",
       "    }\n",
       "\n",
       "    .dataframe thead th {\n",
       "        text-align: right;\n",
       "    }\n",
       "</style>\n",
       "<table border=\"1\" class=\"dataframe\">\n",
       "  <thead>\n",
       "    <tr style=\"text-align: right;\">\n",
       "      <th></th>\n",
       "      <th>ID</th>\n",
       "      <th>Duration_(in_seconds)</th>\n",
       "      <th>Pre_Extracirrcular_Organizations</th>\n",
       "      <th>Pre_Leadership_Positions</th>\n",
       "      <th>Pre_Internships_CoOps</th>\n",
       "      <th>Pre_SurveyDuration</th>\n",
       "      <th>Post_Duration_(in_seconds)</th>\n",
       "      <th>Likelihood_of_Recommendation</th>\n",
       "      <th>Post_SurveyDuration</th>\n",
       "    </tr>\n",
       "  </thead>\n",
       "  <tbody>\n",
       "    <tr>\n",
       "      <th>count</th>\n",
       "      <td>29.000000</td>\n",
       "      <td>2.900000e+01</td>\n",
       "      <td>29.000000</td>\n",
       "      <td>29.000000</td>\n",
       "      <td>29.000000</td>\n",
       "      <td>29</td>\n",
       "      <td>29.000000</td>\n",
       "      <td>29.000000</td>\n",
       "      <td>29</td>\n",
       "    </tr>\n",
       "    <tr>\n",
       "      <th>mean</th>\n",
       "      <td>135.586207</td>\n",
       "      <td>4.477548e+05</td>\n",
       "      <td>1.103448</td>\n",
       "      <td>0.310345</td>\n",
       "      <td>0.413793</td>\n",
       "      <td>5 days 04:20:31.310344827</td>\n",
       "      <td>5157.172414</td>\n",
       "      <td>3.620690</td>\n",
       "      <td>0 days 01:25:57.586206896</td>\n",
       "    </tr>\n",
       "    <tr>\n",
       "      <th>std</th>\n",
       "      <td>79.552102</td>\n",
       "      <td>1.458275e+06</td>\n",
       "      <td>1.611229</td>\n",
       "      <td>0.541390</td>\n",
       "      <td>0.945563</td>\n",
       "      <td>16 days 20:53:36.681366712</td>\n",
       "      <td>14198.077134</td>\n",
       "      <td>2.128276</td>\n",
       "      <td>0 days 03:56:37.965313274</td>\n",
       "    </tr>\n",
       "    <tr>\n",
       "      <th>min</th>\n",
       "      <td>10.000000</td>\n",
       "      <td>5.000000e+02</td>\n",
       "      <td>0.000000</td>\n",
       "      <td>0.000000</td>\n",
       "      <td>0.000000</td>\n",
       "      <td>0 days 00:08:20</td>\n",
       "      <td>409.000000</td>\n",
       "      <td>0.000000</td>\n",
       "      <td>0 days 00:06:49</td>\n",
       "    </tr>\n",
       "    <tr>\n",
       "      <th>25%</th>\n",
       "      <td>70.000000</td>\n",
       "      <td>9.410000e+02</td>\n",
       "      <td>0.000000</td>\n",
       "      <td>0.000000</td>\n",
       "      <td>0.000000</td>\n",
       "      <td>0 days 00:15:42</td>\n",
       "      <td>791.000000</td>\n",
       "      <td>2.000000</td>\n",
       "      <td>0 days 00:13:12</td>\n",
       "    </tr>\n",
       "    <tr>\n",
       "      <th>50%</th>\n",
       "      <td>108.000000</td>\n",
       "      <td>4.461000e+03</td>\n",
       "      <td>1.000000</td>\n",
       "      <td>0.000000</td>\n",
       "      <td>0.000000</td>\n",
       "      <td>0 days 01:14:22</td>\n",
       "      <td>944.000000</td>\n",
       "      <td>4.000000</td>\n",
       "      <td>0 days 00:15:45</td>\n",
       "    </tr>\n",
       "    <tr>\n",
       "      <th>75%</th>\n",
       "      <td>198.000000</td>\n",
       "      <td>4.980100e+05</td>\n",
       "      <td>1.000000</td>\n",
       "      <td>1.000000</td>\n",
       "      <td>0.000000</td>\n",
       "      <td>5 days 18:20:11</td>\n",
       "      <td>1920.000000</td>\n",
       "      <td>5.000000</td>\n",
       "      <td>0 days 00:32:01</td>\n",
       "    </tr>\n",
       "    <tr>\n",
       "      <th>max</th>\n",
       "      <td>281.000000</td>\n",
       "      <td>7.918386e+06</td>\n",
       "      <td>7.000000</td>\n",
       "      <td>2.000000</td>\n",
       "      <td>3.000000</td>\n",
       "      <td>91 days 14:33:07</td>\n",
       "      <td>67695.000000</td>\n",
       "      <td>6.000000</td>\n",
       "      <td>0 days 18:48:15</td>\n",
       "    </tr>\n",
       "  </tbody>\n",
       "</table>\n",
       "</div>"
      ],
      "text/plain": [
       "               ID  Duration_(in_seconds)  Pre_Extracirrcular_Organizations  Pre_Leadership_Positions  Pre_Internships_CoOps          Pre_SurveyDuration  Post_Duration_(in_seconds)  Likelihood_of_Recommendation        Post_SurveyDuration\n",
       "count   29.000000           2.900000e+01                         29.000000                 29.000000              29.000000                          29                   29.000000                     29.000000                         29\n",
       "mean   135.586207           4.477548e+05                          1.103448                  0.310345               0.413793   5 days 04:20:31.310344827                 5157.172414                      3.620690  0 days 01:25:57.586206896\n",
       "std     79.552102           1.458275e+06                          1.611229                  0.541390               0.945563  16 days 20:53:36.681366712                14198.077134                      2.128276  0 days 03:56:37.965313274\n",
       "min     10.000000           5.000000e+02                          0.000000                  0.000000               0.000000             0 days 00:08:20                  409.000000                      0.000000            0 days 00:06:49\n",
       "25%     70.000000           9.410000e+02                          0.000000                  0.000000               0.000000             0 days 00:15:42                  791.000000                      2.000000            0 days 00:13:12\n",
       "50%    108.000000           4.461000e+03                          1.000000                  0.000000               0.000000             0 days 01:14:22                  944.000000                      4.000000            0 days 00:15:45\n",
       "75%    198.000000           4.980100e+05                          1.000000                  1.000000               0.000000             5 days 18:20:11                 1920.000000                      5.000000            0 days 00:32:01\n",
       "max    281.000000           7.918386e+06                          7.000000                  2.000000               3.000000            91 days 14:33:07                67695.000000                      6.000000            0 days 18:48:15"
      ]
     },
     "execution_count": 108,
     "metadata": {},
     "output_type": "execute_result"
    }
   ],
   "source": [
    "detractors.describe()"
   ]
  },
  {
   "cell_type": "code",
   "execution_count": 109,
   "metadata": {},
   "outputs": [
    {
     "data": {
      "text/plain": [
       "count        202.000000\n",
       "mean      278317.133663\n",
       "std       853339.274969\n",
       "min          321.000000\n",
       "25%          995.000000\n",
       "50%         7055.500000\n",
       "75%       438385.500000\n",
       "max      8458635.000000\n",
       "Name: Duration_(in_seconds), dtype: object"
      ]
     },
     "execution_count": 109,
     "metadata": {},
     "output_type": "execute_result"
    }
   ],
   "source": [
    "result[\"Duration_(in_seconds)\"].describe().apply(lambda x: format(x, 'f'))"
   ]
  },
  {
   "cell_type": "markdown",
   "metadata": {},
   "source": [
    "## Survey Completion - Time Evaluation"
   ]
  },
  {
   "cell_type": "code",
   "execution_count": 110,
   "metadata": {},
   "outputs": [
    {
     "data": {
      "text/plain": [
       "Timestamp('2019-08-24 13:25:56')"
      ]
     },
     "execution_count": 110,
     "metadata": {},
     "output_type": "execute_result"
    }
   ],
   "source": [
    "# First Pre Survey Started/Taken August 2019\n",
    "result.Pre_Start_Date.min()"
   ]
  },
  {
   "cell_type": "code",
   "execution_count": 111,
   "metadata": {},
   "outputs": [
    {
     "data": {
      "text/plain": [
       "Timestamp('2019-09-24 15:51:03')"
      ]
     },
     "execution_count": 111,
     "metadata": {},
     "output_type": "execute_result"
    }
   ],
   "source": [
    "# Last Pre Survey Started/Taken \n",
    "result.Pre_Start_Date.max()"
   ]
  },
  {
   "cell_type": "code",
   "execution_count": 112,
   "metadata": {},
   "outputs": [
    {
     "data": {
      "text/plain": [
       "Timestamp('2019-08-24 14:23:17')"
      ]
     },
     "execution_count": 112,
     "metadata": {},
     "output_type": "execute_result"
    }
   ],
   "source": [
    "# First Pre Survey Completed/Submitted\n",
    "result.Pre_End_Date.min()"
   ]
  },
  {
   "cell_type": "code",
   "execution_count": 113,
   "metadata": {},
   "outputs": [
    {
     "data": {
      "text/plain": [
       "Timestamp('2019-12-11 14:15:42')"
      ]
     },
     "execution_count": 113,
     "metadata": {},
     "output_type": "execute_result"
    }
   ],
   "source": [
    "# Last Pre Survey Completed/Submitted December 2019\n",
    "result.Pre_End_Date.max()"
   ]
  },
  {
   "cell_type": "code",
   "execution_count": 114,
   "metadata": {},
   "outputs": [
    {
     "data": {
      "text/plain": [
       "Timestamp('2019-12-10 18:01:41')"
      ]
     },
     "execution_count": 114,
     "metadata": {},
     "output_type": "execute_result"
    }
   ],
   "source": [
    "# First Post Survey Started/Taken December 10th 2019\n",
    "result.Post_Start_Date.min()"
   ]
  },
  {
   "cell_type": "code",
   "execution_count": 115,
   "metadata": {},
   "outputs": [
    {
     "data": {
      "text/plain": [
       "Timestamp('2019-12-20 11:10:33')"
      ]
     },
     "execution_count": 115,
     "metadata": {},
     "output_type": "execute_result"
    }
   ],
   "source": [
    "# Last Post Survey Started/Taken \n",
    "result.Post_Start_Date.max()"
   ]
  },
  {
   "cell_type": "code",
   "execution_count": 116,
   "metadata": {},
   "outputs": [
    {
     "data": {
      "text/plain": [
       "Timestamp('2019-12-10 18:08:54')"
      ]
     },
     "execution_count": 116,
     "metadata": {},
     "output_type": "execute_result"
    }
   ],
   "source": [
    "# First Post Survey Completed/Submitted\n",
    "result.Post_End_Date.min()"
   ]
  },
  {
   "cell_type": "code",
   "execution_count": 117,
   "metadata": {},
   "outputs": [
    {
     "data": {
      "text/plain": [
       "Timestamp('2019-12-20 12:30:33')"
      ]
     },
     "execution_count": 117,
     "metadata": {},
     "output_type": "execute_result"
    }
   ],
   "source": [
    "# lAST Post Survey Completed/Submitted December 20th 2019\n",
    "result.Post_End_Date.max()"
   ]
  }
 ],
 "metadata": {
  "kernelspec": {
   "display_name": "Python 3",
   "language": "python",
   "name": "python3"
  },
  "language_info": {
   "codemirror_mode": {
    "name": "ipython",
    "version": 3
   },
   "file_extension": ".py",
   "mimetype": "text/x-python",
   "name": "python",
   "nbconvert_exporter": "python",
   "pygments_lexer": "ipython3",
   "version": "3.7.7"
  }
 },
 "nbformat": 4,
 "nbformat_minor": 4
}
